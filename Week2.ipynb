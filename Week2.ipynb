{
  "cells": [
    {
      "cell_type": "markdown",
      "metadata": {
        "id": "view-in-github",
        "colab_type": "text"
      },
      "source": [
        "<a href=\"https://colab.research.google.com/github/its-rajesh/Programming-Practicum/blob/main/Week2.ipynb\" target=\"_parent\"><img src=\"https://colab.research.google.com/assets/colab-badge.svg\" alt=\"Open In Colab\"/></a>"
      ]
    },
    {
      "cell_type": "markdown",
      "metadata": {
        "id": "UC8TcFosEViZ"
      },
      "source": [
        "# **CS571: Week 2 | Review of Python Programming**\n",
        "\n",
        "---\n",
        "\n",
        "\n",
        "*Course:* Programming Practicum (CS571)\n",
        "\n",
        "*Instructors:* Dr. Padmanabhan Rajan, Dr. Siddhartha Sarma\n",
        "\n",
        "*Tutorial prepared by:* Rajesh R (S21005)"
      ]
    },
    {
      "cell_type": "markdown",
      "metadata": {
        "id": "iNi6qXJZODdp"
      },
      "source": [
        "# **Running Your First Python Code**"
      ]
    },
    {
      "cell_type": "code",
      "execution_count": null,
      "metadata": {
        "colab": {
          "base_uri": "https://localhost:8080/"
        },
        "id": "rU-wktHCEDjQ",
        "outputId": "c0647fd3-3773-4f3b-e1aa-665cf23e0a98"
      },
      "outputs": [
        {
          "name": "stdout",
          "output_type": "stream",
          "text": [
            "Hello, IIT Mandi!\n"
          ]
        }
      ],
      "source": [
        "print(\"Hello, IIT Mandi!\")"
      ]
    },
    {
      "cell_type": "markdown",
      "metadata": {
        "id": "KGTefr0HPEh6"
      },
      "source": [
        "### The `print()` function\n",
        "\n",
        "A print is a multi-argument function which is used to print the specified message in the screen.\n",
        "\n",
        "**Syntax**:\n",
        "```\n",
        "print(object(s), sep=separator, end=end, file=file, flush=flush)\n",
        "```\n",
        "**Parameter\tDescription:**\n",
        "\n",
        "*   **object(s)**:\tAny object, and as many as you like. Will be converted to string before printed.\n",
        "*   **sep='separator':**\tOptional. Specify how to separate the objects, if there is more than one. Default is ' '\n",
        "*   **end='end'**:\tOptional. Specify what to print at the end. Default is '\\n' (line feed)\n",
        "*   **file:**\tOptional. An object with a write method. Default is sys.stdout\n",
        "*   **flush:**\tOptional. A Boolean, specifying if the output is flushed (True) or buffered (False). Default is False"
      ]
    },
    {
      "cell_type": "markdown",
      "metadata": {
        "id": "0jsi2eFjgeNP"
      },
      "source": [
        "### A few more examples"
      ]
    },
    {
      "cell_type": "code",
      "execution_count": null,
      "metadata": {
        "colab": {
          "base_uri": "https://localhost:8080/"
        },
        "id": "UGz7gsKKRBoM",
        "outputId": "5edd89fa-64a5-4f71-efce-90c0b3ca6f77"
      },
      "outputs": [
        {
          "name": "stdout",
          "output_type": "stream",
          "text": [
            "This statement has 'quotes' within 'quotes'\n"
          ]
        }
      ],
      "source": [
        "print(\"This statement has 'quotes' within 'quotes'\")"
      ]
    },
    {
      "cell_type": "code",
      "execution_count": null,
      "metadata": {
        "colab": {
          "base_uri": "https://localhost:8080/"
        },
        "id": "7nANvbJkEgma",
        "outputId": "e230822d-7c51-4dec-b71e-ef559200346a"
      },
      "outputs": [
        {
          "name": "stdout",
          "output_type": "stream",
          "text": [
            "Hey!\n",
            "I am pursuing MTech CSP\n"
          ]
        }
      ],
      "source": [
        "print('Hey!', 'I am pursuing MTech CSP', sep='\\n')"
      ]
    },
    {
      "cell_type": "code",
      "execution_count": 14,
      "metadata": {
        "colab": {
          "base_uri": "https://localhost:8080/"
        },
        "id": "qFBUywzD-eJR",
        "outputId": "f8f857c6-b708-4e9f-a46c-bfc7cb9fac10"
      },
      "outputs": [
        {
          "output_type": "stream",
          "name": "stdout",
          "text": [
            "Dev Bhoomi\tHimachal\n"
          ]
        }
      ],
      "source": [
        "print('Dev Bhoomi', end='\\t')\n",
        "print('Himachal')"
      ]
    },
    {
      "cell_type": "code",
      "execution_count": 16,
      "metadata": {
        "colab": {
          "base_uri": "https://localhost:8080/"
        },
        "id": "YkLxHqP8_G60",
        "outputId": "b08effa3-ced7-4245-c7cd-fb1fd99f038c"
      },
      "outputs": [
        {
          "output_type": "stream",
          "name": "stdout",
          "text": [
            "#_*_##_*_###_END_###_*_##_*_#\n"
          ]
        }
      ],
      "source": [
        "print('#', '##', '###', sep='_*_', end='_END_')\n",
        "print('###', '##', '#', sep='_*_')"
      ]
    },
    {
      "cell_type": "markdown",
      "metadata": {
        "id": "DqUZPc5yU4ZU"
      },
      "source": [
        "# **Basic computations in Python**\n",
        "\n",
        "Python provides operators (special symbols) for performing different operations\n",
        "\n",
        "**Arithmetic Operators**:\n",
        "*   Addition: `+`\n",
        "*   Subtraction: `-`\n",
        "*   Multiplication: `*`\n",
        "*   Division: `/`\n",
        "*   Floor Division: `//`\n",
        "*   Modulus: `%`\n",
        "*   Power: `**`\n",
        "\n",
        "Check this [link](https://robertsj.github.io/me400_notes/lectures/Basic_Operators_and_Built-In_Functions.html#Python-Operators) for more on operators."
      ]
    },
    {
      "cell_type": "code",
      "execution_count": null,
      "metadata": {
        "colab": {
          "base_uri": "https://localhost:8080/"
        },
        "id": "5ADb3xQaUcMZ",
        "outputId": "0ba1ba04-9e10-44d2-cd06-a3f43df71ba4"
      },
      "outputs": [
        {
          "data": {
            "text/plain": [
              "42"
            ]
          },
          "execution_count": 15,
          "metadata": {},
          "output_type": "execute_result"
        }
      ],
      "source": [
        "40 + 2"
      ]
    },
    {
      "cell_type": "code",
      "execution_count": null,
      "metadata": {
        "colab": {
          "base_uri": "https://localhost:8080/"
        },
        "id": "7uz2fpD7sRPX",
        "outputId": "c4404011-805d-4eb4-f191-eb029ca8a33c"
      },
      "outputs": [
        {
          "data": {
            "text/plain": [
              "81"
            ]
          },
          "execution_count": 1,
          "metadata": {},
          "output_type": "execute_result"
        }
      ],
      "source": [
        "3**4"
      ]
    },
    {
      "cell_type": "code",
      "execution_count": null,
      "metadata": {
        "colab": {
          "base_uri": "https://localhost:8080/"
        },
        "id": "4kidW3qAspHW",
        "outputId": "1521dc1c-017b-4c27-fa15-ecc18ed123c9"
      },
      "outputs": [
        {
          "data": {
            "text/plain": [
              "14"
            ]
          },
          "execution_count": 2,
          "metadata": {},
          "output_type": "execute_result"
        }
      ],
      "source": [
        "57//4"
      ]
    },
    {
      "cell_type": "code",
      "execution_count": null,
      "metadata": {
        "colab": {
          "base_uri": "https://localhost:8080/"
        },
        "id": "Y7NvrlmIswYM",
        "outputId": "19ddb4b8-5956-4936-d082-755e86b18dd1"
      },
      "outputs": [
        {
          "data": {
            "text/plain": [
              "3"
            ]
          },
          "execution_count": 3,
          "metadata": {},
          "output_type": "execute_result"
        }
      ],
      "source": [
        "93%5"
      ]
    },
    {
      "cell_type": "markdown",
      "metadata": {
        "id": "ICixE3OcZKyq"
      },
      "source": [
        "**Precedence of Operations**\n",
        "\n",
        "P – Parentheses\n",
        "\n",
        "E – Exponentiation\n",
        "\n",
        "M – Multiplication (Multiplication and division have the same precedence)\n",
        "\n",
        "D – Division\n",
        "\n",
        "A – Addition (Addition and subtraction have the same precedence)\n",
        "\n",
        "S – Subtraction\n",
        "\n",
        "\n",
        "---\n",
        "\n",
        "\n",
        "* The following order of precedence is followed in Python\n",
        "```\n",
        " 1. ()‘s\n",
        " 2. *, /, //, and %\n",
        " 3. +, -\n",
        " 4. <, <=, etc.\n",
        " 5. not\n",
        " 6. and\n",
        " 7. or\n"
      ]
    },
    {
      "cell_type": "code",
      "execution_count": null,
      "metadata": {
        "colab": {
          "base_uri": "https://localhost:8080/"
        },
        "id": "6XbrdgMM0WhU",
        "outputId": "b26ed603-18b5-4c9f-de60-0026af900f56"
      },
      "outputs": [
        {
          "data": {
            "text/plain": [
              "23"
            ]
          },
          "execution_count": 10,
          "metadata": {},
          "output_type": "execute_result"
        }
      ],
      "source": [
        "17 % 5 + 12 // 4  * (3**2 - 2) "
      ]
    },
    {
      "cell_type": "markdown",
      "metadata": {
        "id": "O9rsRV9rVyry"
      },
      "source": [
        "\n",
        "\n",
        "**Logical Operators**:\n",
        "*   and: `and`\n",
        "*   or: `or`\n",
        "*   not: `not`\n",
        "\n"
      ]
    },
    {
      "cell_type": "code",
      "execution_count": null,
      "metadata": {
        "colab": {
          "base_uri": "https://localhost:8080/"
        },
        "id": "EXfZTgTEwXDq",
        "outputId": "09b18212-d7e1-40e4-931e-cfd08286a1a1"
      },
      "outputs": [
        {
          "data": {
            "text/plain": [
              "0"
            ]
          },
          "execution_count": 4,
          "metadata": {},
          "output_type": "execute_result"
        }
      ],
      "source": [
        "1 and 0"
      ]
    },
    {
      "cell_type": "code",
      "execution_count": null,
      "metadata": {
        "colab": {
          "base_uri": "https://localhost:8080/"
        },
        "id": "MSGM-twNwaBB",
        "outputId": "7e5c41ed-de4a-462a-f62e-fe09bfebe8fa"
      },
      "outputs": [
        {
          "data": {
            "text/plain": [
              "1"
            ]
          },
          "execution_count": 5,
          "metadata": {},
          "output_type": "execute_result"
        }
      ],
      "source": [
        "1 or 0"
      ]
    },
    {
      "cell_type": "code",
      "execution_count": null,
      "metadata": {
        "colab": {
          "base_uri": "https://localhost:8080/"
        },
        "id": "r-RtRcRhwdty",
        "outputId": "c02debdc-2398-4107-a9c1-80b03250e07b"
      },
      "outputs": [
        {
          "data": {
            "text/plain": [
              "False"
            ]
          },
          "execution_count": 6,
          "metadata": {},
          "output_type": "execute_result"
        }
      ],
      "source": [
        "not 12"
      ]
    },
    {
      "cell_type": "markdown",
      "metadata": {
        "id": "Fp4UsuguwT4k"
      },
      "source": [
        "**Comparison Operators**:\n",
        "*   Greater than: `>`\n",
        "*   Lesser than: `<`\n",
        "*   Comparison: `==`\n",
        "*   Not Equal to: `!=`\n",
        "*   is same: `is`\n",
        "*   is not same: `is not`\n",
        "*   Greater than equal to: `>=`\n",
        "*   Less than equal to: `<=`\n",
        "\n"
      ]
    },
    {
      "cell_type": "code",
      "execution_count": null,
      "metadata": {
        "colab": {
          "base_uri": "https://localhost:8080/"
        },
        "id": "9st-0xnMyHe5",
        "outputId": "f0bd8f69-5ddd-47e1-c8b4-1e6a7b9cb746"
      },
      "outputs": [
        {
          "data": {
            "text/plain": [
              "True"
            ]
          },
          "execution_count": 7,
          "metadata": {},
          "output_type": "execute_result"
        }
      ],
      "source": [
        "10 > 5"
      ]
    },
    {
      "cell_type": "code",
      "execution_count": null,
      "metadata": {
        "colab": {
          "base_uri": "https://localhost:8080/"
        },
        "id": "eEy5j0iByMCa",
        "outputId": "72de9d2f-61c1-467a-a702-2d132f33dcd0"
      },
      "outputs": [
        {
          "data": {
            "text/plain": [
              "True"
            ]
          },
          "execution_count": 8,
          "metadata": {},
          "output_type": "execute_result"
        }
      ],
      "source": [
        "-1 < -0.5"
      ]
    },
    {
      "cell_type": "code",
      "execution_count": null,
      "metadata": {
        "colab": {
          "base_uri": "https://localhost:8080/"
        },
        "id": "ao2PbmpDyQA5",
        "outputId": "b33aa9ac-2d90-478f-c860-6f0f778d73a8"
      },
      "outputs": [
        {
          "data": {
            "text/plain": [
              "True"
            ]
          },
          "execution_count": 9,
          "metadata": {},
          "output_type": "execute_result"
        }
      ],
      "source": [
        "3.14 != 3.5"
      ]
    },
    {
      "cell_type": "markdown",
      "metadata": {
        "id": "CNdVOcW3SHRH"
      },
      "source": [
        "# **Data Types**"
      ]
    },
    {
      "cell_type": "markdown",
      "metadata": {
        "id": "Oznr15YTSmGj"
      },
      "source": [
        "A **value** is one of the basic things a program works with, like a letter or a number. Some values we have seen so far are 2, 42.0, and 'Hello, World!'.\n",
        "\n",
        "These values belong to different data types: 2 is an **integer**, 42.0 is a **floating-point** number, and 'Hello, World!' is a **string**, so-called because the letters it contains are strung together.\n",
        "\n",
        "A type function can tell you what data type is!\n",
        "```\n",
        "type()\n",
        "```\n",
        "\n"
      ]
    },
    {
      "cell_type": "code",
      "execution_count": null,
      "metadata": {
        "colab": {
          "base_uri": "https://localhost:8080/"
        },
        "id": "Gi0LfE9-SFM9",
        "outputId": "7d21546e-1a36-434b-e509-3c88837a7f43"
      },
      "outputs": [
        {
          "data": {
            "text/plain": [
              "int"
            ]
          },
          "execution_count": 7,
          "metadata": {},
          "output_type": "execute_result"
        }
      ],
      "source": [
        "type(12)"
      ]
    },
    {
      "cell_type": "code",
      "execution_count": null,
      "metadata": {
        "colab": {
          "base_uri": "https://localhost:8080/"
        },
        "id": "Ki3ZVb_tT16u",
        "outputId": "d444a749-a126-44b8-b025-651212466f77"
      },
      "outputs": [
        {
          "data": {
            "text/plain": [
              "float"
            ]
          },
          "execution_count": 8,
          "metadata": {},
          "output_type": "execute_result"
        }
      ],
      "source": [
        "type(99.9)"
      ]
    },
    {
      "cell_type": "code",
      "execution_count": null,
      "metadata": {
        "colab": {
          "base_uri": "https://localhost:8080/"
        },
        "id": "r7B15QMIT7MJ",
        "outputId": "d3646c25-6e2f-4de7-f1f3-bc8bf67104c7"
      },
      "outputs": [
        {
          "data": {
            "text/plain": [
              "str"
            ]
          },
          "execution_count": 9,
          "metadata": {},
          "output_type": "execute_result"
        }
      ],
      "source": [
        "type(\"I love my country, India\")"
      ]
    },
    {
      "cell_type": "markdown",
      "metadata": {
        "id": "lI5Kq5yxUIri"
      },
      "source": [
        "Anything written within single or double quotes is represented as a string."
      ]
    },
    {
      "cell_type": "code",
      "execution_count": null,
      "metadata": {
        "colab": {
          "base_uri": "https://localhost:8080/"
        },
        "id": "q4jQaooRUBb6",
        "outputId": "509b4325-88a5-435a-dff8-68426aecf445"
      },
      "outputs": [
        {
          "data": {
            "text/plain": [
              "str"
            ]
          },
          "execution_count": 10,
          "metadata": {},
          "output_type": "execute_result"
        }
      ],
      "source": [
        "type('12')"
      ]
    },
    {
      "cell_type": "code",
      "execution_count": null,
      "metadata": {
        "colab": {
          "base_uri": "https://localhost:8080/"
        },
        "id": "YrQJ6wmfUWnK",
        "outputId": "f86e65e2-16eb-4d1f-e2aa-47769eeeb2cf"
      },
      "outputs": [
        {
          "data": {
            "text/plain": [
              "str"
            ]
          },
          "execution_count": 11,
          "metadata": {},
          "output_type": "execute_result"
        }
      ],
      "source": [
        "type('99.9')"
      ]
    },
    {
      "cell_type": "code",
      "execution_count": null,
      "metadata": {
        "colab": {
          "base_uri": "https://localhost:8080/"
        },
        "id": "eIZgbW5_UZSp",
        "outputId": "fd39f22d-aadf-4bdc-94c3-47e57bbb0dd1"
      },
      "outputs": [
        {
          "data": {
            "text/plain": [
              "str"
            ]
          },
          "execution_count": 14,
          "metadata": {},
          "output_type": "execute_result"
        }
      ],
      "source": [
        "type('Single Quote and Double Quote can be used interchangeably')"
      ]
    },
    {
      "cell_type": "markdown",
      "metadata": {
        "id": "hYu8Sg9nqwiT"
      },
      "source": [
        "# **Variables**"
      ]
    },
    {
      "cell_type": "markdown",
      "metadata": {
        "id": "8Xrd3eugq7Ky"
      },
      "source": [
        "A variable can have a short name (like x and y) or a more descriptive name (age, carname, total_volume).\n",
        "\n",
        "**Rules for Python variables:**\n",
        "\n",
        "\n",
        "---\n",
        "\n",
        "*   A variable name must start with a letter or the underscore character, e.g., *name*, *_name*\n",
        "*   A variable name cannot start with a number, e.g., *1ticketCost* is not allowed\n",
        "*   A variable name can only contain alpha-numeric characters and underscores (A-z, 0-9, and _ ), e.g., *Room2_temp*\n",
        "*   **Variable names are case-sensitive**, e.g., *age*, *Age* and *AGE* are three different variables)\n",
        "\n",
        "\n",
        "\n",
        "\n",
        "\n"
      ]
    },
    {
      "cell_type": "code",
      "execution_count": null,
      "metadata": {
        "id": "8OeBQZvoqz2b"
      },
      "outputs": [],
      "source": [
        "n = 'Rajesh'\n",
        "name = 'Rajesh'\n",
        "myname = 'Rajesh'\n",
        "my_name = 'Rajesh'\n",
        "_name = 'Rajesh'\n",
        "name_ = 'Rajesh'\n",
        "myName = 'Rajesh'\n",
        "name2 = 'Rajesh'"
      ]
    },
    {
      "cell_type": "code",
      "execution_count": null,
      "metadata": {
        "colab": {
          "base_uri": "https://localhost:8080/"
        },
        "id": "0WJn-_hOsK7u",
        "outputId": "733a2ae2-5294-4866-bac7-a44f80a858e2"
      },
      "outputs": [
        {
          "name": "stdout",
          "output_type": "stream",
          "text": [
            "Dog cat\n"
          ]
        }
      ],
      "source": [
        "fav_pet = 'Dog'\n",
        "fav_peT = 'cat'\n",
        "print(fav_pet, fav_peT)"
      ]
    },
    {
      "cell_type": "code",
      "execution_count": null,
      "metadata": {
        "colab": {
          "base_uri": "https://localhost:8080/",
          "height": 130
        },
        "id": "VQcR5ky6r-zH",
        "outputId": "4bce92b7-da01-4738-cc8b-ff4015dd66fe"
      },
      "outputs": [
        {
          "ename": "SyntaxError",
          "evalue": "ignored",
          "output_type": "error",
          "traceback": [
            "\u001b[0;36m  File \u001b[0;32m\"<ipython-input-80-f4d63df3b525>\"\u001b[0;36m, line \u001b[0;32m1\u001b[0m\n\u001b[0;31m    6name = 'Rajesh'\u001b[0m\n\u001b[0m        ^\u001b[0m\n\u001b[0;31mSyntaxError\u001b[0m\u001b[0;31m:\u001b[0m invalid syntax\n"
          ]
        }
      ],
      "source": [
        "6name = 'Rajesh'\n",
        "name$ = 'Rajesh'"
      ]
    },
    {
      "cell_type": "markdown",
      "metadata": {
        "id": "Pn5ReKTt6jSk"
      },
      "source": [
        " **Arthimetic, logical and relational operations using variables**"
      ]
    },
    {
      "cell_type": "code",
      "execution_count": null,
      "metadata": {
        "colab": {
          "base_uri": "https://localhost:8080/"
        },
        "id": "LE5-z-AUVvEc",
        "outputId": "7d4df75f-9b3a-45f9-ac4b-033d2971f59d"
      },
      "outputs": [
        {
          "data": {
            "text/plain": [
              "0"
            ]
          },
          "execution_count": 16,
          "metadata": {},
          "output_type": "execute_result"
        }
      ],
      "source": [
        "a = 10\n",
        "b = 50\n",
        "a//b"
      ]
    },
    {
      "cell_type": "code",
      "execution_count": null,
      "metadata": {
        "colab": {
          "base_uri": "https://localhost:8080/"
        },
        "id": "AuU7Y5y0Y5vs",
        "outputId": "5ffe44ca-69b0-4586-b1c5-012c9c48020d"
      },
      "outputs": [
        {
          "data": {
            "text/plain": [
              "100"
            ]
          },
          "execution_count": 17,
          "metadata": {},
          "output_type": "execute_result"
        }
      ],
      "source": [
        "a**2"
      ]
    },
    {
      "cell_type": "code",
      "execution_count": null,
      "metadata": {
        "colab": {
          "base_uri": "https://localhost:8080/"
        },
        "id": "HRqDZjWPZB65",
        "outputId": "bf2f9a82-b5a3-47f0-d24a-5ca953bff539"
      },
      "outputs": [
        {
          "data": {
            "text/plain": [
              "False"
            ]
          },
          "execution_count": 18,
          "metadata": {},
          "output_type": "execute_result"
        }
      ],
      "source": [
        "a == b"
      ]
    },
    {
      "cell_type": "code",
      "execution_count": null,
      "metadata": {
        "colab": {
          "base_uri": "https://localhost:8080/"
        },
        "id": "BFvyVCtRZHhJ",
        "outputId": "0bfe8473-8229-4afa-dfc3-74d98b95dcfb"
      },
      "outputs": [
        {
          "name": "stdout",
          "output_type": "stream",
          "text": [
            "32.0\n"
          ]
        }
      ],
      "source": [
        "a = 10\n",
        "b = 1\n",
        "c = 15\n",
        "d = 22\n",
        "\n",
        "print(a*b+(c/(c/d)))"
      ]
    },
    {
      "cell_type": "markdown",
      "metadata": {
        "id": "WKL1IRMDyFWI"
      },
      "source": [
        "**Assignment Operator**\n",
        "`=` : Assigns value from right to left variable\n",
        "* `a = b` \tThe value stored in `b` is assigned to the variable `a`\n",
        "* `a += b` \tequivalent to `a = a + b`\n",
        "* `a -= b` \tequivalent to `a = a - b`\n",
        "* `a *= b` \tequivalent to `a = a * b`\n",
        "* `a /= b` \tequivalent to `a = a / b`\n",
        "* `a //= b` equivalent to `a = a // b`\n",
        "*\t`a %= b` \tequivalent to `a = a % b`\n",
        "*\t`a = a**b` equivalent to `a = a**b`\n",
        "\n",
        "More operators can be found [here](https://robertsj.github.io/me400_notes/lectures/Basic_Operators_and_Built-In_Functions.html#Python-Operators)."
      ]
    },
    {
      "cell_type": "code",
      "execution_count": null,
      "metadata": {
        "colab": {
          "base_uri": "https://localhost:8080/"
        },
        "id": "_CPZNb_pZrhE",
        "outputId": "e13d5137-98fb-464b-83e9-40dc730bec34"
      },
      "outputs": [
        {
          "data": {
            "text/plain": [
              "True"
            ]
          },
          "execution_count": 22,
          "metadata": {},
          "output_type": "execute_result"
        }
      ],
      "source": [
        "a%2 == 0 and c %3 == 0 or d//2+6 == 11"
      ]
    },
    {
      "cell_type": "markdown",
      "metadata": {
        "id": "Gp-SCE2Ia8fi"
      },
      "source": [
        "* **String Operations:**\n",
        "\n",
        "> `+` : Concatenates two strings\n",
        ">\n",
        "> `*` : Replicates the strings. (The operator should follow a number)\n",
        "\n",
        "\n"
      ]
    },
    {
      "cell_type": "code",
      "execution_count": null,
      "metadata": {
        "colab": {
          "base_uri": "https://localhost:8080/",
          "height": 35
        },
        "id": "CEfWq60RbfjR",
        "outputId": "4e947d74-c679-4099-c950-9ff021453137"
      },
      "outputs": [
        {
          "data": {
            "application/vnd.google.colaboratory.intrinsic+json": {
              "type": "string"
            },
            "text/plain": [
              "'Incredible India'"
            ]
          },
          "execution_count": 32,
          "metadata": {},
          "output_type": "execute_result"
        }
      ],
      "source": [
        "'Incredible'+' India'"
      ]
    },
    {
      "cell_type": "code",
      "execution_count": null,
      "metadata": {
        "colab": {
          "base_uri": "https://localhost:8080/",
          "height": 35
        },
        "id": "kE--JBERbooi",
        "outputId": "c35b3e77-563c-477f-e19d-0be70bafcf11"
      },
      "outputs": [
        {
          "data": {
            "application/vnd.google.colaboratory.intrinsic+json": {
              "type": "string"
            },
            "text/plain": [
              "'IndiaIndia'"
            ]
          },
          "execution_count": 28,
          "metadata": {},
          "output_type": "execute_result"
        }
      ],
      "source": [
        "'India'*2"
      ]
    },
    {
      "cell_type": "code",
      "execution_count": null,
      "metadata": {
        "colab": {
          "base_uri": "https://localhost:8080/",
          "height": 35
        },
        "id": "Ad6ReOxRb4pk",
        "outputId": "8c72debb-b121-4873-c99c-72d1f020455d"
      },
      "outputs": [
        {
          "data": {
            "application/vnd.google.colaboratory.intrinsic+json": {
              "type": "string"
            },
            "text/plain": [
              "'2254'"
            ]
          },
          "execution_count": 29,
          "metadata": {},
          "output_type": "execute_result"
        }
      ],
      "source": [
        "'22'+'54'"
      ]
    },
    {
      "cell_type": "code",
      "execution_count": null,
      "metadata": {
        "colab": {
          "base_uri": "https://localhost:8080/",
          "height": 35
        },
        "id": "tGKbLchzb_9F",
        "outputId": "d24d7180-c5df-4246-9c9d-886feb2c7f03"
      },
      "outputs": [
        {
          "data": {
            "application/vnd.google.colaboratory.intrinsic+json": {
              "type": "string"
            },
            "text/plain": [
              "'121212'"
            ]
          },
          "execution_count": 31,
          "metadata": {},
          "output_type": "execute_result"
        }
      ],
      "source": [
        "'12'*3"
      ]
    },
    {
      "cell_type": "markdown",
      "metadata": {
        "id": "GlTiBsTSayI7"
      },
      "source": [
        "# **Type casting**"
      ]
    },
    {
      "cell_type": "markdown",
      "metadata": {
        "id": "RqW0x2wqa4JT"
      },
      "source": [
        "We can define a type of data using type casting. Python is an object-orientated language, and as such it uses classes to define data types, including its primitive types. Casting in python is therefore done using constructor functions:\n",
        "\n",
        "\n",
        "\n",
        "```\n",
        "int()\n",
        "str()\n",
        "float()\n",
        "```\n",
        "\n"
      ]
    },
    {
      "cell_type": "code",
      "execution_count": null,
      "metadata": {
        "colab": {
          "base_uri": "https://localhost:8080/"
        },
        "id": "sStFGN9mabwq",
        "outputId": "4b079697-8cec-40b3-c04e-3caa91d21ba1"
      },
      "outputs": [
        {
          "name": "stdout",
          "output_type": "stream",
          "text": [
            "Type of a is:  <class 'int'>\n",
            "Type of b is:  <class 'int'>\n"
          ]
        }
      ],
      "source": [
        "a = 12\n",
        "b = int(a)\n",
        "print(\"Type of a is: \", type(a))\n",
        "print(\"Type of b is: \", type(b))"
      ]
    },
    {
      "cell_type": "code",
      "execution_count": null,
      "metadata": {
        "colab": {
          "base_uri": "https://localhost:8080/"
        },
        "id": "_EPeD2y2dI3M",
        "outputId": "ca54bd23-7ca0-4f91-97aa-a4ba00d1af77"
      },
      "outputs": [
        {
          "name": "stdout",
          "output_type": "stream",
          "text": [
            "Type of a is: <class 'float'>\n",
            "Type of b is: <class 'int'>\n"
          ]
        }
      ],
      "source": [
        "a = 12.01\n",
        "b = int(a)\n",
        "print(\"Type of a is: {}\\nType of b is: {}\".format(type(a), type(b)))"
      ]
    },
    {
      "cell_type": "code",
      "execution_count": null,
      "metadata": {
        "colab": {
          "base_uri": "https://localhost:8080/"
        },
        "id": "ChLtcxdMdat6",
        "outputId": "96b8c661-8fc6-4ecf-bcfc-36beddc79754"
      },
      "outputs": [
        {
          "name": "stdout",
          "output_type": "stream",
          "text": [
            "Type of a is: <class 'str'>\n",
            "Type of b is: <class 'int'>\n"
          ]
        }
      ],
      "source": [
        "a = '14'\n",
        "b = int(a)\n",
        "print(\"Type of a is: {}\\nType of b is: {}\".format(type(a), type(b)))"
      ]
    },
    {
      "cell_type": "markdown",
      "metadata": {
        "id": "h9wFXk3MdwNy"
      },
      "source": [
        "Fails to cast if wrong casting is given"
      ]
    },
    {
      "cell_type": "code",
      "execution_count": null,
      "metadata": {
        "colab": {
          "base_uri": "https://localhost:8080/",
          "height": 200
        },
        "id": "pQXtJs4KdjSZ",
        "outputId": "6e8128ad-f9e6-44e6-d1f5-15829abdb553"
      },
      "outputs": [
        {
          "ename": "ValueError",
          "evalue": "ignored",
          "output_type": "error",
          "traceback": [
            "\u001b[0;31m---------------------------------------------------------------------------\u001b[0m",
            "\u001b[0;31mValueError\u001b[0m                                Traceback (most recent call last)",
            "\u001b[0;32m<ipython-input-39-18bb5435c043>\u001b[0m in \u001b[0;36m<module>\u001b[0;34m()\u001b[0m\n\u001b[1;32m      1\u001b[0m \u001b[0ma\u001b[0m \u001b[0;34m=\u001b[0m \u001b[0;34m\"Hello\"\u001b[0m\u001b[0;34m\u001b[0m\u001b[0;34m\u001b[0m\u001b[0m\n\u001b[0;32m----> 2\u001b[0;31m \u001b[0mb\u001b[0m \u001b[0;34m=\u001b[0m \u001b[0mint\u001b[0m\u001b[0;34m(\u001b[0m\u001b[0ma\u001b[0m\u001b[0;34m)\u001b[0m\u001b[0;34m\u001b[0m\u001b[0;34m\u001b[0m\u001b[0m\n\u001b[0m\u001b[1;32m      3\u001b[0m \u001b[0mprint\u001b[0m\u001b[0;34m(\u001b[0m\u001b[0;34m\"Type of a is: {}\\nType of b is: {}\"\u001b[0m\u001b[0;34m.\u001b[0m\u001b[0mformat\u001b[0m\u001b[0;34m(\u001b[0m\u001b[0mtype\u001b[0m\u001b[0;34m(\u001b[0m\u001b[0ma\u001b[0m\u001b[0;34m)\u001b[0m\u001b[0;34m,\u001b[0m \u001b[0mtype\u001b[0m\u001b[0;34m(\u001b[0m\u001b[0mb\u001b[0m\u001b[0;34m)\u001b[0m\u001b[0;34m)\u001b[0m\u001b[0;34m)\u001b[0m\u001b[0;34m\u001b[0m\u001b[0;34m\u001b[0m\u001b[0m\n",
            "\u001b[0;31mValueError\u001b[0m: invalid literal for int() with base 10: 'Hello'"
          ]
        }
      ],
      "source": [
        "a = \"Hello\"\n",
        "b = int(a)\n",
        "print(\"Type of a is: {}\\nType of b is: {}\".format(type(a), type(b)))"
      ]
    },
    {
      "cell_type": "markdown",
      "metadata": {
        "id": "UoJkdlw5ewkx"
      },
      "source": [
        "# **Conditional Statements**"
      ]
    },
    {
      "cell_type": "markdown",
      "metadata": {
        "id": "UVF7HPtufZ-E"
      },
      "source": [
        "**If Statement**: Fundamental decision making statement. The statement inside the block is executed only when the condition is true.\n",
        "\n",
        "Syntax:\n",
        "```\n",
        "if expression:\n",
        "  statement\n",
        "```"
      ]
    },
    {
      "cell_type": "code",
      "execution_count": null,
      "metadata": {
        "colab": {
          "base_uri": "https://localhost:8080/"
        },
        "id": "wXgKAdETeoBs",
        "outputId": "9f6a4eef-023d-4e74-e29b-54a43a682d1b"
      },
      "outputs": [
        {
          "name": "stdout",
          "output_type": "stream",
          "text": [
            "True\n"
          ]
        }
      ],
      "source": [
        "if 22.0 == 22:\n",
        "  print(\"True\")"
      ]
    },
    {
      "cell_type": "code",
      "execution_count": null,
      "metadata": {
        "colab": {
          "base_uri": "https://localhost:8080/"
        },
        "id": "hzJ27K4agOkc",
        "outputId": "3ff07d19-0d43-4fe3-f782-ddc4ef5f8161"
      },
      "outputs": [
        {
          "name": "stdout",
          "output_type": "stream",
          "text": [
            "The guy is Indian\n"
          ]
        }
      ],
      "source": [
        "nationality = 'Indian'\n",
        "\n",
        "if nationality == \"Indian\":\n",
        "  print(\"The guy is Indian\")"
      ]
    },
    {
      "cell_type": "code",
      "execution_count": null,
      "metadata": {
        "colab": {
          "base_uri": "https://localhost:8080/"
        },
        "id": "2rlFxI9ZgrGp",
        "outputId": "6bdc7f5a-c35c-4e0d-dcc5-a1a78107487f"
      },
      "outputs": [
        {
          "name": "stdout",
          "output_type": "stream",
          "text": [
            "Number is even\n"
          ]
        }
      ],
      "source": [
        "number = 6\n",
        "\n",
        "if number%2 == 0:\n",
        "  print(\"Number is even\")"
      ]
    },
    {
      "cell_type": "markdown",
      "metadata": {
        "id": "HUegv7tFg4cR"
      },
      "source": [
        "**If else Statement**:The statement inside the block is executed only when the condition is true. If the condition is false, then the statements in else block will be executed.\n",
        "\n",
        "Syntax:\n",
        "```\n",
        "if expression:\n",
        "  statement\n",
        "else:\n",
        "  statement\n",
        "```"
      ]
    },
    {
      "cell_type": "code",
      "execution_count": null,
      "metadata": {
        "colab": {
          "base_uri": "https://localhost:8080/"
        },
        "id": "rgWxn0VXg0Wp",
        "outputId": "1bbd8bfb-6328-4a1b-992c-04f80ca2acec"
      },
      "outputs": [
        {
          "name": "stdout",
          "output_type": "stream",
          "text": [
            "Number is odd\n"
          ]
        }
      ],
      "source": [
        "number = 61\n",
        "\n",
        "if number%2 == 0:\n",
        "  print(\"Number is even\")\n",
        "else:\n",
        "  print(\"Number is odd\")"
      ]
    },
    {
      "cell_type": "markdown",
      "metadata": {
        "id": "6nhDZspwhvx3"
      },
      "source": [
        "**Nested If else Statement**: Contains many branches of if else statements. Statement inside the if or else block can also contain if else statements.\n",
        "\n",
        "Syntax:\n",
        "```\n",
        "if expression:\n",
        "  statement\n",
        "elif expression:\n",
        "  statement\n",
        "else:\n",
        "  statement\n",
        "```"
      ]
    },
    {
      "cell_type": "code",
      "execution_count": null,
      "metadata": {
        "colab": {
          "base_uri": "https://localhost:8080/"
        },
        "id": "D-zaxEHyhTTa",
        "outputId": "827b28f6-28c2-4acf-c42f-9743eeb15c24"
      },
      "outputs": [
        {
          "name": "stdout",
          "output_type": "stream",
          "text": [
            "Hurray! You have cleared CS571 course!\n",
            "Grade Obtained A\n"
          ]
        }
      ],
      "source": [
        "mark = 89\n",
        "\n",
        "if mark < 50:\n",
        "  print(\"You have failed in the CS571 course!\")\n",
        "  if mark <= 35:\n",
        "    print(\"Grade Obtained: F\")\n",
        "  else:\n",
        "    print(\"Grade Obtained: E\")\n",
        "else:\n",
        "  print(\"Hurray! You have cleared CS571 course!\")\n",
        "  if mark >= 50 and mark <= 65:\n",
        "    print(\"Grade Obtained D\")\n",
        "  elif mark >65 and mark <= 75:\n",
        "    print(\"Grade Obtained C\")\n",
        "  elif mark >75 and mark <= 85:\n",
        "    print(\"Grade Obtained B\")\n",
        "  elif mark >85 and mark <= 95:\n",
        "    print(\"Grade Obtained A\")\n",
        "  else:\n",
        "    print(\"Grade Obtained O\")"
      ]
    },
    {
      "cell_type": "markdown",
      "metadata": {
        "id": "iq01ovC8kEv8"
      },
      "source": [
        "# **Looping Statements**"
      ]
    },
    {
      "cell_type": "markdown",
      "metadata": {
        "id": "70boJkOBlmIM"
      },
      "source": [
        "Looping statements allows us to iterate a specific statements certain number of times\n",
        "\n",
        "**While** and **for** loops are available in python"
      ]
    },
    {
      "cell_type": "markdown",
      "metadata": {
        "id": "O5jEYM1-l2Z6"
      },
      "source": [
        "**While** **Loop Syntax:**\n",
        "\n",
        "```\n",
        "while expression:\n",
        "  statement\n",
        "```"
      ]
    },
    {
      "cell_type": "code",
      "execution_count": null,
      "metadata": {
        "colab": {
          "base_uri": "https://localhost:8080/"
        },
        "id": "-cTWIiDekMGK",
        "outputId": "b602e785-72d9-4a6a-d4e6-5e300cfd1a21"
      },
      "outputs": [
        {
          "name": "stdout",
          "output_type": "stream",
          "text": [
            "20\n",
            "18\n",
            "16\n",
            "14\n",
            "12\n",
            "10\n",
            "8\n",
            "6\n",
            "4\n",
            "2\n",
            "0\n"
          ]
        }
      ],
      "source": [
        "n = 20\n",
        "while n>=0:\n",
        "  print(n)\n",
        "  n = n-2"
      ]
    },
    {
      "cell_type": "markdown",
      "metadata": {
        "id": "XPDEzoycmsXb"
      },
      "source": [
        "**for** **Loop Syntax:**\n",
        "\n",
        "```\n",
        "for expression:\n",
        "  statement\n",
        "```\n",
        "\n",
        "Usually `range` function is used along with `for`. The `range()` function returns a sequence of numbers, starting from 0 by default, and increments by 1 (by default), and stops before a specified number.\n",
        "\n",
        "Syntax:\n",
        "```\n",
        "range(start, stop, step)\n",
        "```\n",
        "The default step is 1 and start is 0 if not specified\n",
        "\n",
        "\n",
        "\n",
        "\n"
      ]
    },
    {
      "cell_type": "code",
      "execution_count": 90,
      "metadata": {
        "colab": {
          "base_uri": "https://localhost:8080/"
        },
        "id": "_4wGDcAImZPc",
        "outputId": "2c1a72d3-7134-48e3-9d9a-3c61e85a3413"
      },
      "outputs": [
        {
          "output_type": "stream",
          "name": "stdout",
          "text": [
            "20\n",
            "18\n",
            "16\n",
            "14\n",
            "12\n",
            "10\n",
            "8\n",
            "6\n",
            "4\n",
            "2\n",
            "0\n"
          ]
        }
      ],
      "source": [
        "n = 20\n",
        "k = n//2+1\n",
        "for i in range(k):\n",
        "  print(n)\n",
        "  n = n-2"
      ]
    },
    {
      "cell_type": "markdown",
      "metadata": {
        "id": "PZ3bpFFioaaz"
      },
      "source": [
        "**Loop Control Statements**\n",
        "\n",
        "\n",
        "\n",
        "*   `break` statement: Terminates the loop statement and transfers execution to the statement immediately following the loop.\n",
        "*   `continue` statement: Causes the loop to skip the remainder of its body and immediately retest its condition prior to reiterating.\n",
        "*   `pass` statement: The pass statement in Python is used when a statement is required syntactically but you do not want any command or code to execute."
      ]
    },
    {
      "cell_type": "code",
      "execution_count": null,
      "metadata": {
        "colab": {
          "base_uri": "https://localhost:8080/"
        },
        "id": "lJ_GoPPYnrB6",
        "outputId": "44bf8df5-3c3a-425e-fdfe-c47491f1e65b"
      },
      "outputs": [
        {
          "name": "stdout",
          "output_type": "stream",
          "text": [
            "Executed Once\n"
          ]
        }
      ],
      "source": [
        "while True:\n",
        "  print(\"Executed Once\")\n",
        "  break"
      ]
    },
    {
      "cell_type": "code",
      "execution_count": null,
      "metadata": {
        "id": "hN0ZztVNpaAk"
      },
      "outputs": [],
      "source": [
        "try:\n",
        "  if k >= 12:\n",
        "    print(k)\n",
        "except:\n",
        "  pass"
      ]
    },
    {
      "cell_type": "code",
      "execution_count": null,
      "metadata": {
        "id": "n4JGbOOtpofZ"
      },
      "outputs": [],
      "source": [
        "a = 12\n",
        "while a >= 0:\n",
        "  a -= 1\n",
        "  continue"
      ]
    },
    {
      "cell_type": "markdown",
      "source": [
        "# **Miscellaneous**"
      ],
      "metadata": {
        "id": "VE_AqPgEB2eH"
      }
    },
    {
      "cell_type": "markdown",
      "source": [
        "**String Int Concatenation**"
      ],
      "metadata": {
        "id": "Eny2Ar6iB_7d"
      }
    },
    {
      "cell_type": "code",
      "source": [
        "name = 'Rajinikanth'\n",
        "age = 71\n",
        "\n",
        "concat = name+str(age)\n",
        "print(concat)"
      ],
      "metadata": {
        "colab": {
          "base_uri": "https://localhost:8080/"
        },
        "id": "k9gsr1DsB1pS",
        "outputId": "bf44f873-ece7-46c1-c942-a08366ea987b"
      },
      "execution_count": 17,
      "outputs": [
        {
          "output_type": "stream",
          "name": "stdout",
          "text": [
            "Rajinikanth71\n"
          ]
        }
      ]
    },
    {
      "cell_type": "markdown",
      "source": [
        "**Additional Examples**"
      ],
      "metadata": {
        "id": "SCjpGsPnDEvG"
      }
    },
    {
      "cell_type": "code",
      "source": [
        "# Code for obtaining the one's digit for an given number (Example for string-int type casting)\n",
        "number = 2312\n",
        "string_number = str(number)\n",
        "ones_digit = string_number[-1]\n",
        "ones_digit = int(ones_digit)\n",
        "print(ones_digit)"
      ],
      "metadata": {
        "colab": {
          "base_uri": "https://localhost:8080/"
        },
        "id": "w6gk8c9-CQGH",
        "outputId": "19f95887-8a5e-4a1c-e441-6758c5e372a6"
      },
      "execution_count": 23,
      "outputs": [
        {
          "output_type": "stream",
          "name": "stdout",
          "text": [
            "2\n"
          ]
        }
      ]
    },
    {
      "cell_type": "code",
      "source": [
        "# Printing Various Patterns (Example of separators in print, usage of nested for loops)\n",
        "n = 10 #no of levels to print\n",
        "for i in range(n):\n",
        "  for j in range(i):\n",
        "    print('#', end='\\t')\n",
        "  print('', end='\\n')"
      ],
      "metadata": {
        "colab": {
          "base_uri": "https://localhost:8080/"
        },
        "id": "YmTG2I4OCqoo",
        "outputId": "18ac909c-f90d-45a6-e930-ad1ca37fe295"
      },
      "execution_count": 26,
      "outputs": [
        {
          "output_type": "stream",
          "name": "stdout",
          "text": [
            "\n",
            "#\t\n",
            "#\t#\t\n",
            "#\t#\t#\t\n",
            "#\t#\t#\t#\t\n",
            "#\t#\t#\t#\t#\t\n",
            "#\t#\t#\t#\t#\t#\t\n",
            "#\t#\t#\t#\t#\t#\t#\t\n",
            "#\t#\t#\t#\t#\t#\t#\t#\t\n",
            "#\t#\t#\t#\t#\t#\t#\t#\t#\t\n"
          ]
        }
      ]
    },
    {
      "cell_type": "markdown",
      "source": [
        "Modify the above codes to obtain the following patterns\n",
        "\n",
        "```\n",
        "#####\n",
        "####\n",
        "###\n",
        "##\n",
        "#\n",
        "\n",
        "```\n",
        "\n",
        "```\n",
        "    #\n",
        "   ###\n",
        "  #####\n",
        "   ###\n",
        "    #\n",
        "\n",
        "```\n",
        "\n",
        "```\n",
        "I\n",
        "II\n",
        "IIT\n",
        "IITM\n",
        "IITMA\n",
        "IITMAN\n",
        "IITMAND\n",
        "IITMANDI\n",
        "```\n",
        "\n",
        "```\n",
        "I\n",
        "II\n",
        "TTT\n",
        "MMMM\n",
        "AAAAA\n",
        "NNNNNN\n",
        "DDDDDDD\n",
        "IIIIIII\n",
        "```"
      ],
      "metadata": {
        "id": "HilX5dxfDpk6"
      }
    },
    {
      "cell_type": "code",
      "source": [
        "#Butterfly Pattern Printing\n",
        "\n",
        "n = 12 #Should be even\n",
        "\n",
        "for i in range(n):\n",
        "  for j in range(n+1):\n",
        "    if i==j or i+j == n:\n",
        "      print('*', end='')\n",
        "    elif j == n//2 or j == n//2+1 or j == n//2-1:\n",
        "      print('|', end='')\n",
        "    else:\n",
        "      print(' ', end='')\n",
        "  print('')\n"
      ],
      "metadata": {
        "colab": {
          "base_uri": "https://localhost:8080/"
        },
        "id": "ACl-rBaYDewH",
        "outputId": "35e28a1b-45f3-40e0-f806-a91a8c0d531f"
      },
      "execution_count": 48,
      "outputs": [
        {
          "output_type": "stream",
          "name": "stdout",
          "text": [
            "*    |||    *\n",
            " *   |||   * \n",
            "  *  |||  *  \n",
            "   * ||| *   \n",
            "    *|||*    \n",
            "     *|*     \n",
            "     |*|     \n",
            "     *|*     \n",
            "    *|||*    \n",
            "   * ||| *   \n",
            "  *  |||  *  \n",
            " *   |||   * \n"
          ]
        }
      ]
    },
    {
      "cell_type": "code",
      "source": [
        "# Printing Arrows\n",
        "n = 10 # Levels should be >=4 and even.\n",
        "k = n//2*3\n",
        "\n",
        "for i in range(n+1):\n",
        "  for j in range(n):\n",
        "    if (i == n/2 or j-i == n/2 or i+j == k):\n",
        "      print('*', end='')\n",
        "    else:\n",
        "      print(' ', end='')\n",
        "  print('')\n",
        "\n",
        "print('\\n')\n",
        "\n",
        "for i in range(n+1):\n",
        "  for j in range(n):\n",
        "    if (i == n/2 or i-j == n/2 or i+j == n/2):\n",
        "      print('*', end='')\n",
        "    else:\n",
        "      print(' ', end='')\n",
        "  print('')"
      ],
      "metadata": {
        "colab": {
          "base_uri": "https://localhost:8080/"
        },
        "id": "2LnBPAimnxvl",
        "outputId": "5ff76b2d-885a-4fbb-d322-3c268ea3b727"
      },
      "execution_count": 86,
      "outputs": [
        {
          "output_type": "stream",
          "name": "stdout",
          "text": [
            "     *    \n",
            "      *   \n",
            "       *  \n",
            "        * \n",
            "         *\n",
            "**********\n",
            "         *\n",
            "        * \n",
            "       *  \n",
            "      *   \n",
            "     *    \n",
            "\n",
            "\n",
            "     *    \n",
            "    *     \n",
            "   *      \n",
            "  *       \n",
            " *        \n",
            "**********\n",
            " *        \n",
            "  *       \n",
            "   *      \n",
            "    *     \n",
            "     *    \n"
          ]
        }
      ]
    },
    {
      "cell_type": "code",
      "source": [
        ""
      ],
      "metadata": {
        "id": "98V1pBt2qcwy"
      },
      "execution_count": null,
      "outputs": []
    }
  ],
  "metadata": {
    "colab": {
      "name": "Week2.ipynb",
      "provenance": [],
      "include_colab_link": true
    },
    "kernelspec": {
      "display_name": "Python 3",
      "name": "python3"
    },
    "language_info": {
      "name": "python"
    }
  },
  "nbformat": 4,
  "nbformat_minor": 0
}