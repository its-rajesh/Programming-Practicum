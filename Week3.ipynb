{
  "nbformat": 4,
  "nbformat_minor": 0,
  "metadata": {
    "colab": {
      "name": "Week3.ipynb",
      "provenance": [],
      "collapsed_sections": [],
      "authorship_tag": "ABX9TyM44bAUolBUSWVepmRCPB/k",
      "include_colab_link": true
    },
    "kernelspec": {
      "name": "python3",
      "display_name": "Python 3"
    },
    "language_info": {
      "name": "python"
    }
  },
  "cells": [
    {
      "cell_type": "markdown",
      "metadata": {
        "id": "view-in-github",
        "colab_type": "text"
      },
      "source": [
        "<a href=\"https://colab.research.google.com/github/its-rajesh/Programming-Practicum/blob/main/Week3.ipynb\" target=\"_parent\"><img src=\"https://colab.research.google.com/assets/colab-badge.svg\" alt=\"Open In Colab\"/></a>"
      ]
    },
    {
      "cell_type": "markdown",
      "source": [
        "# **CS571: Week 3 | Review of Python Programming & Advanced Data Types**\n",
        "\n",
        "---\n",
        "\n",
        "\n",
        "*Course:* Programming Practicum (CS571)\n",
        "\n",
        "*Instructors:* Dr. Padmanabhan Rajan, Dr. Siddhartha Sarma\n",
        "\n",
        "*Tutorial prepared by:* Rajesh R (S21005)"
      ],
      "metadata": {
        "id": "sBghjezHGwwC"
      }
    },
    {
      "cell_type": "markdown",
      "source": [
        "# **Functions**"
      ],
      "metadata": {
        "id": "HsWnX63uHNPP"
      }
    },
    {
      "cell_type": "markdown",
      "source": [
        "Functions can be used whevever we need to run a specific block of code only when it is required. Also, It is used when a certain block of codes to be repeated many times with different data inputs.\n",
        "\n",
        "---\n",
        "\n",
        "**SYNTAX**\n",
        "\n",
        "*   **Function definition**:\n",
        "\n",
        "```\n",
        "def functionname(parameters):\n",
        "  #block of code to be executed when called\n",
        "```\n",
        "`def` is a keyword in python followed by the function name. A function may or may not have parameters.\n",
        "\n",
        "*   **Function call**\n",
        "\n",
        "```\n",
        "functionname(arguments)\n",
        "```\n",
        "Whenever we call a function, the code within the function gets executed.\n",
        "\n",
        "\n",
        "---\n",
        "**Important terminologies**\n",
        "\n",
        "> **Parameters**: The variables that are written during a function definition\n",
        "\n",
        "> **Arguments**: The variables that are actully passed to a function\n",
        "\n",
        "\n",
        "\n",
        "```\n",
        "def first_function(name, age, school='SCEE', **kwargs):\n",
        "  pass\n",
        "```\n",
        "\n",
        "Here name, age, school, and kwargs are parameters of a funtion \n",
        "\n",
        "```\n",
        "first_function(name='Krishna', age='18')\n",
        "```\n",
        "\n",
        "'Krishna' and 18 are the arguments to the function\n",
        "\n",
        "> **Return type**: The results that are produced by the function when it is called"
      ],
      "metadata": {
        "id": "h1KB9-sB-fAV"
      }
    },
    {
      "cell_type": "code",
      "execution_count": 1,
      "metadata": {
        "id": "f1b7rhL2GbTf",
        "colab": {
          "base_uri": "https://localhost:8080/"
        },
        "outputId": "984240a6-2201-4f5c-ab55-f82197f42578"
      },
      "outputs": [
        {
          "output_type": "stream",
          "name": "stdout",
          "text": [
            "Hello, MTech CSP!\n"
          ]
        }
      ],
      "source": [
        "def first_function():\n",
        "  print(\"Hello, MTech CSP!\")\n",
        "  \n",
        "first_function()"
      ]
    },
    {
      "cell_type": "markdown",
      "source": [
        "**Types of functions**\n",
        "\n",
        "Functions can be classified based on the parameters and the return type. There are four classes of functions\n",
        "1. With parameters and with return type\n",
        "2. With parameters and without return type\n",
        "3. Without parameters and with return type\n",
        "4. Without parameters and without return type"
      ],
      "metadata": {
        "id": "pYlJCvH5E7Vc"
      }
    },
    {
      "cell_type": "markdown",
      "source": [
        "**Function without parameters and without return type**\n"
      ],
      "metadata": {
        "id": "VrdxoOfXF4Gs"
      }
    },
    {
      "cell_type": "code",
      "source": [
        "def first_function():\n",
        "  print(\"Hello, MTech CSP!\")\n",
        "  \n",
        "first_function()"
      ],
      "metadata": {
        "id": "qc6X2bMPHUN4",
        "colab": {
          "base_uri": "https://localhost:8080/"
        },
        "outputId": "5acdc2bd-392f-4b2c-dd3b-2557a7b18ba3"
      },
      "execution_count": 2,
      "outputs": [
        {
          "output_type": "stream",
          "name": "stdout",
          "text": [
            "Hello, MTech CSP!\n"
          ]
        }
      ]
    },
    {
      "cell_type": "markdown",
      "source": [
        "The above code does not have any parameters and does not return any value when it is called."
      ],
      "metadata": {
        "id": "Zgd_rP3kGA3w"
      }
    },
    {
      "cell_type": "markdown",
      "source": [
        "**Function with parameters and without return type**"
      ],
      "metadata": {
        "id": "yFN9JYHIGLYC"
      }
    },
    {
      "cell_type": "code",
      "source": [
        "def first_function(department):\n",
        "  print(\"Hello, MTech \"+department+\"!\")\n",
        "\n",
        "department = \"CSE\"\n",
        "first_function(department)"
      ],
      "metadata": {
        "id": "b3T4z5sHHUF4",
        "colab": {
          "base_uri": "https://localhost:8080/"
        },
        "outputId": "483e4f76-f36c-419f-b7c9-320e86af940b"
      },
      "execution_count": 3,
      "outputs": [
        {
          "output_type": "stream",
          "name": "stdout",
          "text": [
            "Hello, MTech CSE!\n"
          ]
        }
      ]
    },
    {
      "cell_type": "markdown",
      "source": [
        "The above code has the parameter *department* and passed it to the function when it is called. The function does not return any value."
      ],
      "metadata": {
        "id": "RPspf0dxGsy_"
      }
    },
    {
      "cell_type": "markdown",
      "source": [
        "**Function with parameters and with return type**"
      ],
      "metadata": {
        "id": "MGUi_cSVHF8H"
      }
    },
    {
      "cell_type": "code",
      "source": [
        "def first_function(department):\n",
        "  output = \"Hello, MTech \"+department+\"!\"\n",
        "  return output #function returns some value\n",
        "\n",
        "department = \"CSE\"\n",
        "output = first_function(department)\n",
        "print(output)"
      ],
      "metadata": {
        "colab": {
          "base_uri": "https://localhost:8080/"
        },
        "id": "gKBj9upxHFlf",
        "outputId": "78a9c7df-c7db-4c55-e17c-de596daeb7a1"
      },
      "execution_count": 4,
      "outputs": [
        {
          "output_type": "stream",
          "name": "stdout",
          "text": [
            "Hello, MTech CSE!\n"
          ]
        }
      ]
    },
    {
      "cell_type": "markdown",
      "source": [
        "**Function without parameters and with return type**"
      ],
      "metadata": {
        "id": "peuCH31wcTmL"
      }
    },
    {
      "cell_type": "code",
      "source": [
        "def first_function():\n",
        "  output = \"Hello, MTech CSP!\"\n",
        "  return output #function returns some value\n",
        "\n",
        "output = first_function()\n",
        "print(output)"
      ],
      "metadata": {
        "colab": {
          "base_uri": "https://localhost:8080/"
        },
        "id": "sDFkwupXHFdh",
        "outputId": "73706674-6918-4684-9f97-ec45d39f112d"
      },
      "execution_count": 5,
      "outputs": [
        {
          "output_type": "stream",
          "name": "stdout",
          "text": [
            "Hello, MTech CSP!\n"
          ]
        }
      ]
    },
    {
      "cell_type": "markdown",
      "source": [
        "Some more examples"
      ],
      "metadata": {
        "id": "oTIwqgqncw_U"
      }
    },
    {
      "cell_type": "code",
      "source": [
        "def first_function(department):\n",
        "  output = \"Hello, MTech \"+department+\"!\"\n",
        "  return output \n",
        "\n",
        "\n",
        "print(first_function(\"CSP\"))\n",
        "print(first_function(\"CSE\"))\n",
        "print(first_function(\"VLSI\"))"
      ],
      "metadata": {
        "id": "OuycaHXvHT_Z",
        "colab": {
          "base_uri": "https://localhost:8080/"
        },
        "outputId": "0998548a-55ea-4ae1-acb9-a2010f1baf52"
      },
      "execution_count": 6,
      "outputs": [
        {
          "output_type": "stream",
          "name": "stdout",
          "text": [
            "Hello, MTech CSP!\n",
            "Hello, MTech CSE!\n",
            "Hello, MTech VLSI!\n"
          ]
        }
      ]
    },
    {
      "cell_type": "code",
      "source": [
        "def first_function(department):\n",
        "  print(\"Hello, MTech \"+department+\"!\")\n",
        "\n",
        "department = \"CSE\"\n",
        "output = first_function(department) # As the function does not returns anything, defaults returns None\n",
        "print(output)"
      ],
      "metadata": {
        "colab": {
          "base_uri": "https://localhost:8080/"
        },
        "id": "p0CWTSZ4dPrY",
        "outputId": "131e20c9-4935-4ffe-936b-29e5c491bd84"
      },
      "execution_count": 8,
      "outputs": [
        {
          "output_type": "stream",
          "name": "stdout",
          "text": [
            "Hello, MTech CSE!\n",
            "None\n"
          ]
        }
      ]
    },
    {
      "cell_type": "markdown",
      "source": [
        "# **Lambda Function**"
      ],
      "metadata": {
        "id": "8pM5P6tzdv3_"
      }
    },
    {
      "cell_type": "markdown",
      "source": [
        "Python has special function called the lambda function. It is a small function with only one expression and can take many arguments.\n",
        "\n",
        "\n",
        "\n",
        "```\n",
        "lambda arguments : expression\n",
        "\n",
        "```\n",
        "\n"
      ],
      "metadata": {
        "id": "VtzBD4O-d61e"
      }
    },
    {
      "cell_type": "code",
      "source": [
        "add_function = lambda a, b : a+b\n",
        "\n",
        "sum = add_function(10, 20)\n",
        "print(sum)"
      ],
      "metadata": {
        "colab": {
          "base_uri": "https://localhost:8080/"
        },
        "id": "2JXfGt_pdvnT",
        "outputId": "6a27b9ea-6be0-44dc-ff33-ab7f917ecc4d"
      },
      "execution_count": 9,
      "outputs": [
        {
          "output_type": "stream",
          "name": "stdout",
          "text": [
            "30\n"
          ]
        }
      ]
    },
    {
      "cell_type": "code",
      "source": [
        "add_function = lambda a, b,c : a+b+c\n",
        "\n",
        "sum = add_function(10, 20, 30)\n",
        "print(sum)"
      ],
      "metadata": {
        "colab": {
          "base_uri": "https://localhost:8080/"
        },
        "id": "f1QGBrWugCxT",
        "outputId": "8ba07354-97e7-447f-908c-442f9951f5f8"
      },
      "execution_count": 10,
      "outputs": [
        {
          "output_type": "stream",
          "name": "stdout",
          "text": [
            "60\n"
          ]
        }
      ]
    },
    {
      "cell_type": "markdown",
      "source": [
        "This example illustrates the power and use of lambda functions"
      ],
      "metadata": {
        "id": "w96doKoVgzSL"
      }
    },
    {
      "cell_type": "code",
      "source": [
        "def somefunc(n):\n",
        "  return lambda a : a ** n\n",
        "\n",
        "powersof2 = somefunc(2)\n",
        "powersof3 = somefunc(3)\n",
        "\n",
        "print(powersof2(2))\n",
        "print(powersof3(2))"
      ],
      "metadata": {
        "colab": {
          "base_uri": "https://localhost:8080/"
        },
        "id": "75Kn4yDYe5cN",
        "outputId": "f5f2e588-b48f-4c64-8c0b-8198e1ed00ae"
      },
      "execution_count": 13,
      "outputs": [
        {
          "output_type": "stream",
          "name": "stdout",
          "text": [
            "4\n",
            "8\n"
          ]
        }
      ]
    },
    {
      "cell_type": "markdown",
      "source": [
        "# **Understanding Scope of Variables**"
      ],
      "metadata": {
        "id": "tRBdkCGzHWCI"
      }
    },
    {
      "cell_type": "markdown",
      "source": [
        "There are four classes of scopes in python\n",
        "1. Local scope\n",
        "2. Enclosing scope\n",
        "3. Global scope\n",
        "4. Built-in"
      ],
      "metadata": {
        "id": "wTQignQtmrnS"
      }
    },
    {
      "cell_type": "markdown",
      "source": [
        "Example for unserstanding variable scope"
      ],
      "metadata": {
        "id": "84jM8GTKnz86"
      }
    },
    {
      "cell_type": "code",
      "source": [
        "def func(b):\n",
        "  a = 10 #local variable\n",
        "  x = a+b\n",
        "  return x\n",
        "\n",
        "x = func(10)\n",
        "print(a, b, x) "
      ],
      "metadata": {
        "colab": {
          "base_uri": "https://localhost:8080/",
          "height": 200
        },
        "id": "QmxqJFHjmrPw",
        "outputId": "2c771fab-e9b5-4a7d-8bc1-7b5ce655c444"
      },
      "execution_count": 15,
      "outputs": [
        {
          "output_type": "error",
          "ename": "NameError",
          "evalue": "ignored",
          "traceback": [
            "\u001b[0;31m---------------------------------------------------------------------------\u001b[0m",
            "\u001b[0;31mNameError\u001b[0m                                 Traceback (most recent call last)",
            "\u001b[0;32m<ipython-input-15-a045cce0f3d5>\u001b[0m in \u001b[0;36m<module>\u001b[0;34m()\u001b[0m\n\u001b[1;32m      5\u001b[0m \u001b[0;34m\u001b[0m\u001b[0m\n\u001b[1;32m      6\u001b[0m \u001b[0mx\u001b[0m \u001b[0;34m=\u001b[0m \u001b[0mfunc\u001b[0m\u001b[0;34m(\u001b[0m\u001b[0;36m10\u001b[0m\u001b[0;34m)\u001b[0m\u001b[0;34m\u001b[0m\u001b[0;34m\u001b[0m\u001b[0m\n\u001b[0;32m----> 7\u001b[0;31m \u001b[0mprint\u001b[0m\u001b[0;34m(\u001b[0m\u001b[0ma\u001b[0m\u001b[0;34m,\u001b[0m \u001b[0mb\u001b[0m\u001b[0;34m,\u001b[0m \u001b[0mx\u001b[0m\u001b[0;34m)\u001b[0m\u001b[0;34m\u001b[0m\u001b[0;34m\u001b[0m\u001b[0m\n\u001b[0m",
            "\u001b[0;31mNameError\u001b[0m: name 'a' is not defined"
          ]
        }
      ]
    },
    {
      "cell_type": "markdown",
      "source": [
        "In the above example, `a` is the local variable and that is being used outside of the function. Here `a` variable has the local scope. One can use a within the function not outside the function. Such usage of variables are defined by scopes"
      ],
      "metadata": {
        "id": "hrgsPJBMn6rR"
      }
    },
    {
      "cell_type": "markdown",
      "source": [
        "### **Local Scope**"
      ],
      "metadata": {
        "id": "1aTJeZIgoZXi"
      }
    },
    {
      "cell_type": "code",
      "source": [
        "def func(b):\n",
        "  a = 10 #local variable and a has local scope\n",
        "  x = a+b\n",
        "  return x\n",
        "\n",
        "x = func(10)\n",
        "print(x) "
      ],
      "metadata": {
        "id": "j-WEumjpHeB4",
        "colab": {
          "base_uri": "https://localhost:8080/"
        },
        "outputId": "2bcd5066-96bf-422a-c629-d51fefd4529f"
      },
      "execution_count": 17,
      "outputs": [
        {
          "output_type": "stream",
          "name": "stdout",
          "text": [
            "20\n"
          ]
        }
      ]
    },
    {
      "cell_type": "markdown",
      "source": [
        "The Variable `a` has the local scope as it is defined within the function. `a` cannot be used outside the function"
      ],
      "metadata": {
        "id": "pOjWuq_konu3"
      }
    },
    {
      "cell_type": "markdown",
      "source": [
        "### **Global Scope**"
      ],
      "metadata": {
        "id": "tqWLLIOnozRQ"
      }
    },
    {
      "cell_type": "code",
      "source": [
        "message = 'I am a global variable' #The 'message' is a global variable and has global scope\n",
        "\n",
        "def func():\n",
        "  print(message)\n",
        "\n",
        "func()"
      ],
      "metadata": {
        "id": "IFopDy_JHd-h",
        "colab": {
          "base_uri": "https://localhost:8080/"
        },
        "outputId": "bb4b96d3-72f8-4137-9fdf-1051f1a3b4ea"
      },
      "execution_count": 19,
      "outputs": [
        {
          "output_type": "stream",
          "name": "stdout",
          "text": [
            "I am a global variable\n"
          ]
        }
      ]
    },
    {
      "cell_type": "markdown",
      "source": [
        "`message` variable is defined globally in the above code. Thus it has global scope. So it can be used within or outside the functions also."
      ],
      "metadata": {
        "id": "Prpl-3FdpLAv"
      }
    },
    {
      "cell_type": "code",
      "source": [
        "message = 'I am a global variable' #The 'message' is a global variable and has global scope\n",
        "\n",
        "def func():\n",
        "  message = 'I am a local variable' # same variable as global variable.\n",
        "  print(message)\n",
        "\n",
        "func()\n",
        "print(message) "
      ],
      "metadata": {
        "id": "3kjbl1MbHd7h",
        "colab": {
          "base_uri": "https://localhost:8080/"
        },
        "outputId": "99ebd237-2d0c-4b5f-9012-fca8c75daf00"
      },
      "execution_count": 21,
      "outputs": [
        {
          "output_type": "stream",
          "name": "stdout",
          "text": [
            "I am a local variable\n",
            "I am a global variable\n"
          ]
        }
      ]
    },
    {
      "cell_type": "markdown",
      "source": [
        "The above example illustrates the variable scope altogather. whenever there is a local variable defined with the same name of global variable, local variable has scope within the function. Outside the function, global variable has the scope."
      ],
      "metadata": {
        "id": "tRqrv8Y8p4LP"
      }
    },
    {
      "cell_type": "markdown",
      "source": [
        "### **Enclosing Scope**"
      ],
      "metadata": {
        "id": "q1jn2hsKqclv"
      }
    },
    {
      "cell_type": "markdown",
      "source": [
        "A Variable that doesnot come under local or global are called enclosing scope"
      ],
      "metadata": {
        "id": "0MtH8rBNqkBc"
      }
    },
    {
      "cell_type": "code",
      "source": [
        "name = 'Rajesh'  # Global scope\n",
        "def college():\n",
        "  institute = 'IIT Mandi' # Enclosing scope\n",
        "  def programme():\n",
        "    dept = 'MS by Research' # Local scope\n",
        "    print('Hey, I am '+name+' pursuing '+dept+' at '+institute)\n",
        "\n",
        "  programme()\n",
        "college()"
      ],
      "metadata": {
        "id": "I0e5ZfcwHd5A",
        "colab": {
          "base_uri": "https://localhost:8080/"
        },
        "outputId": "f932ad8e-834f-406a-d221-cd8b2dfb8054"
      },
      "execution_count": 27,
      "outputs": [
        {
          "output_type": "stream",
          "name": "stdout",
          "text": [
            "Hey, I am Rajesh pursuing MS by Research at IIT Mandi\n"
          ]
        }
      ]
    },
    {
      "cell_type": "markdown",
      "source": [
        "### **Builin Scope**"
      ],
      "metadata": {
        "id": "kEigoFuJsqRI"
      }
    },
    {
      "cell_type": "markdown",
      "source": [
        "All the reserved names in Python built-in modules have a built-in scope. \n",
        "\n",
        "Python would see in the local scope first to see which of the variables are defined in the local scope, then it will look in the enclosing scope and then global scope. If the identifier is not found anywhere then, at last, it will check the built-in scope.\n",
        "\n",
        "Built-in scopes are one of the widest scopes that cover all the reserved keywords. These are easy to call anywhere in the program prior to using them, without the need to define them."
      ],
      "metadata": {
        "id": "ChJVNZ8VtG2C"
      }
    },
    {
      "cell_type": "code",
      "source": [
        "a = 5.5\n",
        "int(a)\n",
        "print(a)\n",
        "print(type(a))"
      ],
      "metadata": {
        "id": "NLpdrHCgHd2J",
        "colab": {
          "base_uri": "https://localhost:8080/"
        },
        "outputId": "71a10ae3-9fbb-4db6-aadd-2f44feb96212"
      },
      "execution_count": 28,
      "outputs": [
        {
          "output_type": "stream",
          "name": "stdout",
          "text": [
            "5.5\n",
            "<class 'float'>\n"
          ]
        }
      ]
    },
    {
      "cell_type": "markdown",
      "source": [
        "# **Recursion**"
      ],
      "metadata": {
        "id": "B2SRZivzHe-Q"
      }
    },
    {
      "cell_type": "markdown",
      "source": [
        "A function that call itself is called recursion. It has wide applications. For example factorial of a given number and generating a fibonacci series is explanied using recursion below."
      ],
      "metadata": {
        "id": "GoZLxM04u78a"
      }
    },
    {
      "cell_type": "code",
      "source": [
        "'''\n",
        "GETTING FACTORIAL OF THE GIVEN NUMBER USING RECURSION\n",
        "'''\n",
        "def factorial(n):\n",
        "  if n == 1:\n",
        "    return n\n",
        "  elif n == 0:\n",
        "    return 1\n",
        "  else:\n",
        "    return n*factorial(n-1)\n",
        "\n",
        "num = 5\n",
        "print(\"The factorial of\", num, \"is\", factorial(num))"
      ],
      "metadata": {
        "id": "PDxcrN-YHmX4",
        "colab": {
          "base_uri": "https://localhost:8080/"
        },
        "outputId": "f60627d0-96aa-4a9f-856b-7239b833a6ef"
      },
      "execution_count": 31,
      "outputs": [
        {
          "output_type": "stream",
          "name": "stdout",
          "text": [
            "The factorial of 5 is 120\n"
          ]
        }
      ]
    },
    {
      "cell_type": "code",
      "source": [
        "'''\n",
        "GENERATING FIBONACCI SERIES USING RECURSION\n",
        "'''\n",
        "def fibonacci(n):\n",
        "  if n <= 1:\n",
        "      return n\n",
        "  else:\n",
        "      return(fibonacci(n-1) + fibonacci(n-2))\n",
        " \n",
        "n_terms = 10\n",
        "for i in range(n_terms):\n",
        "    print(fibonacci(i))"
      ],
      "metadata": {
        "id": "i6Z20Z3NHmVQ",
        "colab": {
          "base_uri": "https://localhost:8080/"
        },
        "outputId": "864e9dcf-5107-4100-d862-8e8d202d7873"
      },
      "execution_count": 33,
      "outputs": [
        {
          "output_type": "stream",
          "name": "stdout",
          "text": [
            "0\n",
            "1\n",
            "1\n",
            "2\n",
            "3\n",
            "5\n",
            "8\n",
            "13\n",
            "21\n",
            "34\n"
          ]
        }
      ]
    },
    {
      "cell_type": "markdown",
      "source": [
        "There are some disadvantages of using recursion. They use more memory and takes more time for recursive calls. Also, It is hard to debug.\n",
        "\n",
        "The same factorial and fibonacci is generated without using recursion. You can note the time taken and compare both the methods."
      ],
      "metadata": {
        "id": "NY012c2vwDVT"
      }
    },
    {
      "cell_type": "code",
      "source": [
        "'''\n",
        "GETTING FACTORIAL OF THE GIVEN NUMBER WITHOUT RECURSION\n",
        "'''\n",
        "num = 5\n",
        "n = num #for printing\n",
        "fact = 1\n",
        "while(num > 0):\n",
        "    fact = fact*num\n",
        "    num=num-1\n",
        "\n",
        "print(\"The factorial of\",n, \"is\", fact)"
      ],
      "metadata": {
        "id": "0Vhrx4oKHmSR",
        "colab": {
          "base_uri": "https://localhost:8080/"
        },
        "outputId": "b2df7450-b28c-42df-ba34-4cf12c9e331f"
      },
      "execution_count": 38,
      "outputs": [
        {
          "output_type": "stream",
          "name": "stdout",
          "text": [
            "The factorial of 5 is 120\n"
          ]
        }
      ]
    },
    {
      "cell_type": "code",
      "source": [
        "'''\n",
        "GENERATING FIBONACCI SERIES WITHOUT RECURSION\n",
        "'''\n",
        "a = 0\n",
        "b = 1\n",
        "n = 10\n",
        "print(a,b, sep='\\n')\n",
        "while(n-2):\n",
        "    c=a+b\n",
        "    a=b\n",
        "    b=c\n",
        "    print(c)\n",
        "    n=n-1"
      ],
      "metadata": {
        "id": "caRU1SeiHmPQ",
        "colab": {
          "base_uri": "https://localhost:8080/"
        },
        "outputId": "eb6dc220-5d38-4e3f-a3f0-283161d3708c"
      },
      "execution_count": 42,
      "outputs": [
        {
          "output_type": "stream",
          "name": "stdout",
          "text": [
            "0\n",
            "1\n",
            "1\n",
            "2\n",
            "3\n",
            "5\n",
            "8\n",
            "13\n",
            "21\n",
            "34\n"
          ]
        }
      ]
    },
    {
      "cell_type": "markdown",
      "source": [
        "# **Arrays and Lists**"
      ],
      "metadata": {
        "id": "kbTVCNbDHpkY"
      }
    },
    {
      "cell_type": "markdown",
      "source": [
        "* An array is an advanced data type in python which can hold more than one value at a time of similar datatype.\n",
        "\n",
        "* Arrays hold multiple variables of same datatype where as list can hold multiple variables of differnt datatypes too.\n",
        "\n",
        "* **Python does not have built-in support for Arrays, but Python Lists can be used instead.** However if we need to work with arrays we can import from the numpy library.\n",
        "\n",
        "* Strings are stored as an array"
      ],
      "metadata": {
        "id": "ez8tGKi0yXAV"
      }
    },
    {
      "cell_type": "markdown",
      "source": [
        "### **Basic methods**"
      ],
      "metadata": {
        "id": "I4HynvhS21Vg"
      }
    },
    {
      "cell_type": "code",
      "source": [
        "array = [1, 2, 3, 4] #here array is an list which holds collection of same datatype (int)"
      ],
      "metadata": {
        "id": "GEO--RbqHwsa"
      },
      "execution_count": 57,
      "outputs": []
    },
    {
      "cell_type": "code",
      "source": [
        "# Accessing values\n",
        "\n",
        "print(array[0]) #prints value at 0th position\n",
        "print(array[3]) #prints value at 3rd position\n",
        "print(array[-1]) #prints the final value"
      ],
      "metadata": {
        "id": "YG8cdFxFHxs7",
        "colab": {
          "base_uri": "https://localhost:8080/"
        },
        "outputId": "1c4c8028-7bf8-4b25-938c-9d498c3b7790"
      },
      "execution_count": 45,
      "outputs": [
        {
          "output_type": "stream",
          "name": "stdout",
          "text": [
            "1\n",
            "4\n",
            "4\n"
          ]
        }
      ]
    },
    {
      "cell_type": "code",
      "source": [
        "# length of the array\n",
        "print(len(array))"
      ],
      "metadata": {
        "id": "bEyEWwtQHxqS",
        "colab": {
          "base_uri": "https://localhost:8080/"
        },
        "outputId": "bcefd0d4-5092-417a-d71a-2d40bad51fb3"
      },
      "execution_count": 46,
      "outputs": [
        {
          "output_type": "stream",
          "name": "stdout",
          "text": [
            "4\n"
          ]
        }
      ]
    },
    {
      "cell_type": "code",
      "source": [
        "#looping array elements\n",
        "for elements in array:\n",
        "  print(elements)"
      ],
      "metadata": {
        "id": "yMX_BVENHxno",
        "colab": {
          "base_uri": "https://localhost:8080/"
        },
        "outputId": "1c116f3d-f4f8-4355-c3c0-7086ba7756b3"
      },
      "execution_count": 47,
      "outputs": [
        {
          "output_type": "stream",
          "name": "stdout",
          "text": [
            "1\n",
            "2\n",
            "3\n",
            "4\n"
          ]
        }
      ]
    },
    {
      "cell_type": "code",
      "source": [
        "# adding new elements to array/list using append\n",
        "array.append(5)\n",
        "print(array)\n",
        "#append always adds element in last"
      ],
      "metadata": {
        "colab": {
          "base_uri": "https://localhost:8080/"
        },
        "id": "beHNC4Zc0YeH",
        "outputId": "cb86f928-d292-4fa5-9b41-fb597e3ac1ea"
      },
      "execution_count": 58,
      "outputs": [
        {
          "output_type": "stream",
          "name": "stdout",
          "text": [
            "[1, 2, 3, 4, 5]\n"
          ]
        }
      ]
    },
    {
      "cell_type": "code",
      "source": [
        "# adding new elements to list using insert (This is not applicable for array concepts)\n",
        "array.insert(6, 6) # inserts '6' in 6th position\n",
        "print(array)"
      ],
      "metadata": {
        "colab": {
          "base_uri": "https://localhost:8080/"
        },
        "id": "D9b4B9Y00YT2",
        "outputId": "8fd8767e-6804-46ac-b610-3cbedbba297e"
      },
      "execution_count": 59,
      "outputs": [
        {
          "output_type": "stream",
          "name": "stdout",
          "text": [
            "[1, 2, 3, 4, 5, 6]\n"
          ]
        }
      ]
    },
    {
      "cell_type": "code",
      "source": [
        "# removing array/list elements\n",
        "array.pop()\n",
        "print(array)\n",
        "# pop removes element from last"
      ],
      "metadata": {
        "colab": {
          "base_uri": "https://localhost:8080/"
        },
        "id": "Eee1jDu90YQe",
        "outputId": "03506e06-de98-47e8-cdfc-a82be5649ba2"
      },
      "execution_count": 60,
      "outputs": [
        {
          "output_type": "stream",
          "name": "stdout",
          "text": [
            "[1, 2, 3, 4, 5]\n"
          ]
        }
      ]
    },
    {
      "cell_type": "code",
      "source": [
        "# deleting certain values at the given index of an array\n",
        "del array[4]\n",
        "print(array)"
      ],
      "metadata": {
        "id": "Qbxc7HXVHxko",
        "colab": {
          "base_uri": "https://localhost:8080/"
        },
        "outputId": "130bd068-0f59-4957-89ac-ec717f7be58f"
      },
      "execution_count": 61,
      "outputs": [
        {
          "output_type": "stream",
          "name": "stdout",
          "text": [
            "[1, 2, 3, 4]\n"
          ]
        }
      ]
    },
    {
      "cell_type": "code",
      "source": [
        "# Deleting using remove in list\n",
        "array.remove(3) #this statement removes element 3 in array without reffering to index\n",
        "print(array)"
      ],
      "metadata": {
        "id": "RURRHlGnHxhY",
        "colab": {
          "base_uri": "https://localhost:8080/"
        },
        "outputId": "9a5953a7-3ac4-43f6-8638-6535c43026da"
      },
      "execution_count": 62,
      "outputs": [
        {
          "output_type": "stream",
          "name": "stdout",
          "text": [
            "[1, 2, 4]\n"
          ]
        }
      ]
    },
    {
      "cell_type": "markdown",
      "source": [
        "### **More operations on list**"
      ],
      "metadata": {
        "id": "ceEw5KYv2-3P"
      }
    },
    {
      "cell_type": "markdown",
      "source": [
        "More list methods can be seen [here](https://docs.python.org/3/tutorial/datastructures.html)"
      ],
      "metadata": {
        "id": "xGbQezBp3FVg"
      }
    },
    {
      "cell_type": "code",
      "source": [
        "# Reversing a list\n",
        "\n",
        "array = [1, 2, 3, 4, 5]\n",
        "array.reverse()\n",
        "print(array)"
      ],
      "metadata": {
        "colab": {
          "base_uri": "https://localhost:8080/"
        },
        "id": "jYVkv2nY2YTg",
        "outputId": "7336bda2-f13c-4407-8005-25da36d8aadf"
      },
      "execution_count": 64,
      "outputs": [
        {
          "output_type": "stream",
          "name": "stdout",
          "text": [
            "[5, 4, 3, 2, 1]\n"
          ]
        }
      ]
    },
    {
      "cell_type": "code",
      "source": [
        "# Sorting a list\n",
        "\n",
        "array = [5, 3, 8, 4, 1, 9]\n",
        "array.sort(reverse=True) # for decending order\n",
        "print(array)\n",
        "\n",
        "array.sort(reverse=False)\n",
        "print(array) # for ascending order"
      ],
      "metadata": {
        "colab": {
          "base_uri": "https://localhost:8080/"
        },
        "id": "YLIbhaS_2YQn",
        "outputId": "17475b29-ad61-4d30-d02a-aab198212d9c"
      },
      "execution_count": 66,
      "outputs": [
        {
          "output_type": "stream",
          "name": "stdout",
          "text": [
            "[9, 8, 5, 4, 3, 1]\n",
            "[1, 3, 4, 5, 8, 9]\n"
          ]
        }
      ]
    },
    {
      "cell_type": "markdown",
      "source": [
        "**Copying a list**\n",
        "\n",
        "1. Shallow copy: changes in the copy list gets reflected to the main list\n",
        "2. Deep copy: changes in the copy list does not gets reflected to the main list"
      ],
      "metadata": {
        "id": "hGlytB3w4Neb"
      }
    },
    {
      "cell_type": "code",
      "source": [
        "array = ['Hi', 'Hello', 'Hey']\n",
        "copy_array = array.copy()\n",
        "#print(copy_array)\n",
        "\n",
        "copy_array.pop()\n",
        "print(copy_array, array)"
      ],
      "metadata": {
        "colab": {
          "base_uri": "https://localhost:8080/"
        },
        "id": "EVj4yVVw2YNP",
        "outputId": "eb2bd84b-e27e-49d3-c934-2b0bbefa8463"
      },
      "execution_count": 70,
      "outputs": [
        {
          "output_type": "stream",
          "name": "stdout",
          "text": [
            "['Hi', 'Hello'] ['Hi', 'Hello', 'Hey']\n"
          ]
        }
      ]
    },
    {
      "cell_type": "markdown",
      "source": [
        "### **String operations using list**"
      ],
      "metadata": {
        "id": "dtG2X1jG5Ode"
      }
    },
    {
      "cell_type": "code",
      "source": [
        "name = 'Rajesh'\n",
        "print(name[0])\n",
        "print(name[-1])"
      ],
      "metadata": {
        "colab": {
          "base_uri": "https://localhost:8080/"
        },
        "id": "Iubk-kba5M0G",
        "outputId": "756b374d-4294-4318-da80-95a4d167c7cf"
      },
      "execution_count": 72,
      "outputs": [
        {
          "output_type": "stream",
          "name": "stdout",
          "text": [
            "R\n",
            "h\n"
          ]
        }
      ]
    },
    {
      "cell_type": "code",
      "source": [
        "for character in name:\n",
        "  print(character)"
      ],
      "metadata": {
        "colab": {
          "base_uri": "https://localhost:8080/"
        },
        "id": "YZBFbwBS5MyA",
        "outputId": "8c0bc186-c975-44e4-e540-5384d11838b3"
      },
      "execution_count": 73,
      "outputs": [
        {
          "output_type": "stream",
          "name": "stdout",
          "text": [
            "R\n",
            "a\n",
            "j\n",
            "e\n",
            "s\n",
            "h\n"
          ]
        }
      ]
    },
    {
      "cell_type": "code",
      "source": [
        "name_as_list = list(name)\n",
        "print(name_as_list)"
      ],
      "metadata": {
        "colab": {
          "base_uri": "https://localhost:8080/"
        },
        "id": "LrkcSGXJ5Mux",
        "outputId": "31a2bb34-bd8a-4b4a-f76b-31b6f6a84a06"
      },
      "execution_count": 76,
      "outputs": [
        {
          "output_type": "stream",
          "name": "stdout",
          "text": [
            "['R', 'a', 'j', 'e', 's', 'h']\n"
          ]
        }
      ]
    },
    {
      "cell_type": "code",
      "source": [
        "name = 'RAJESH'\n",
        "rev_name = name[::-1]\n",
        "print(rev_name)"
      ],
      "metadata": {
        "colab": {
          "base_uri": "https://localhost:8080/"
        },
        "id": "LUGMIOoJ5Mr_",
        "outputId": "cd57f791-6e55-4606-dc4f-4174b3697642"
      },
      "execution_count": 80,
      "outputs": [
        {
          "output_type": "stream",
          "name": "stdout",
          "text": [
            "HSEJAR\n"
          ]
        }
      ]
    },
    {
      "cell_type": "markdown",
      "source": [
        "More examples can be seen in week4 under module String Manipulation"
      ],
      "metadata": {
        "id": "ejRLCk0V6RoL"
      }
    },
    {
      "cell_type": "markdown",
      "source": [
        "# **Multidimensional Arrays/List**"
      ],
      "metadata": {
        "id": "LLdeTnQqH0tB"
      }
    },
    {
      "cell_type": "markdown",
      "source": [
        "A list inside a list is called 2D list. A list with all elements of 2D lists are called 3D list, and so on.\n",
        "\n",
        "Marices are often used as 2D lists"
      ],
      "metadata": {
        "id": "NWUDDvYY7gOR"
      }
    },
    {
      "cell_type": "code",
      "source": [
        "matrix = [[1, 2], [3, 4]]\n",
        "print(matrix) #A 2D list"
      ],
      "metadata": {
        "id": "vnBtCN5-Hxb4",
        "colab": {
          "base_uri": "https://localhost:8080/"
        },
        "outputId": "87f37504-f2b7-490a-9e99-9c27dd22041e"
      },
      "execution_count": 82,
      "outputs": [
        {
          "output_type": "stream",
          "name": "stdout",
          "text": [
            "[[1, 2], [3, 4]]\n"
          ]
        }
      ]
    },
    {
      "cell_type": "code",
      "source": [
        "#Accessing elements, deleting or adding is everything same as single dimensional lists.\n",
        "\n",
        "print(matrix[0][0])\n",
        "print(matrix[-1][-1])"
      ],
      "metadata": {
        "colab": {
          "base_uri": "https://localhost:8080/"
        },
        "id": "6TlVy80_8GpD",
        "outputId": "9075a4a6-0150-4f2b-9ff1-e4fa71e7fd26"
      },
      "execution_count": 83,
      "outputs": [
        {
          "output_type": "stream",
          "name": "stdout",
          "text": [
            "1\n",
            "4\n"
          ]
        }
      ]
    },
    {
      "cell_type": "code",
      "source": [
        "matrix = [[[1, 2], [3, 4]], [[1, 2], [3, 4]]]\n",
        "print(matrix) #A 3D list\n",
        "\n",
        "print(matrix[0][0][0])\n",
        "print(matrix[-1][-1][-1])"
      ],
      "metadata": {
        "colab": {
          "base_uri": "https://localhost:8080/"
        },
        "id": "FsB1giWC8cyD",
        "outputId": "5785ca5d-c3ea-40f8-a50a-c26acac012c2"
      },
      "execution_count": 85,
      "outputs": [
        {
          "output_type": "stream",
          "name": "stdout",
          "text": [
            "[[[1, 2], [3, 4]], [[1, 2], [3, 4]]]\n",
            "1\n",
            "4\n"
          ]
        }
      ]
    },
    {
      "cell_type": "markdown",
      "source": [
        "Some more examples:"
      ],
      "metadata": {
        "id": "jgxHthRH8wy-"
      }
    },
    {
      "cell_type": "code",
      "source": [
        "'''\n",
        "CODE FOR CALCULATING L2 NORM OF AN MATRIX\n",
        "'''\n",
        "row = 3\n",
        "col = 3\n",
        "matrix = [[1, 1, 1], [1, 1, 1], [1, 1, 1]]\n",
        "\n",
        "sum = 0\n",
        "for i in range(row):\n",
        "  for j in range(col):\n",
        "    sum = sum + matrix[i][j]*matrix[i][j]\n",
        "\n",
        "print(sum)"
      ],
      "metadata": {
        "colab": {
          "base_uri": "https://localhost:8080/"
        },
        "id": "kkz0XDYu8zU_",
        "outputId": "718cdc95-a5c8-460d-b4c9-2c380e54de73"
      },
      "execution_count": 90,
      "outputs": [
        {
          "output_type": "stream",
          "name": "stdout",
          "text": [
            "9\n"
          ]
        }
      ]
    },
    {
      "cell_type": "code",
      "source": [
        "'''\n",
        "CODE FOR CALCULATING TRANSPOSE OF AN MATRIX\n",
        "'''\n",
        "row = 3\n",
        "col = 3\n",
        "matrix = [[1, 2, 3], [4, 5, 6], [7, 8, 9]]\n",
        "transpose = []\n",
        "\n",
        "for i in range(row):\n",
        "  temp = []\n",
        "  for j in range(col):\n",
        "    temp.append(matrix[j][i])\n",
        "  transpose.append(temp)\n",
        "\n",
        "print(transpose)"
      ],
      "metadata": {
        "colab": {
          "base_uri": "https://localhost:8080/"
        },
        "id": "2jK_4IaV9y6O",
        "outputId": "5ee1d333-51f0-4da4-8a6b-6139b1f12cd8"
      },
      "execution_count": 93,
      "outputs": [
        {
          "output_type": "stream",
          "name": "stdout",
          "text": [
            "[[1, 4, 7], [2, 5, 8], [3, 6, 9]]\n"
          ]
        }
      ]
    },
    {
      "cell_type": "markdown",
      "source": [
        "# **Stacks & Queues**"
      ],
      "metadata": {
        "id": "-ShEiFsi-dPT"
      }
    },
    {
      "cell_type": "markdown",
      "source": [
        "We can use lists as stacks and queues\n",
        "\n",
        "![stack.png](data:image/png;base64,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)"
      ],
      "metadata": {
        "id": "UjcVXXoX-lI5"
      }
    },
    {
      "cell_type": "markdown",
      "source": [
        "### **Stacks**"
      ],
      "metadata": {
        "id": "PvWtMcdt_LmG"
      }
    },
    {
      "cell_type": "code",
      "source": [
        "stack = [8, 4, 2, 6, 7]\n",
        "stack.append(0)\n",
        "stack.append(1)\n",
        "print(stack)"
      ],
      "metadata": {
        "colab": {
          "base_uri": "https://localhost:8080/"
        },
        "id": "FcnPcYgJ-k2O",
        "outputId": "005b1ea0-812a-443d-b8b9-9deb4573ead9"
      },
      "execution_count": 102,
      "outputs": [
        {
          "output_type": "stream",
          "name": "stdout",
          "text": [
            "[8, 4, 2, 6, 7, 0, 1]\n"
          ]
        }
      ]
    },
    {
      "cell_type": "code",
      "source": [
        "stack.pop()\n",
        "print(stack)"
      ],
      "metadata": {
        "colab": {
          "base_uri": "https://localhost:8080/"
        },
        "id": "M7h96oXk-kzq",
        "outputId": "754465d2-b531-41b6-950a-91c5894992cb"
      },
      "execution_count": 103,
      "outputs": [
        {
          "output_type": "stream",
          "name": "stdout",
          "text": [
            "[8, 4, 2, 6, 7, 0]\n"
          ]
        }
      ]
    },
    {
      "cell_type": "code",
      "source": [
        "stack.pop()"
      ],
      "metadata": {
        "colab": {
          "base_uri": "https://localhost:8080/"
        },
        "id": "wfb8ctvh-ksj",
        "outputId": "6b36f5ac-8a04-4472-b165-8ac7f6eb7b23"
      },
      "execution_count": 104,
      "outputs": [
        {
          "output_type": "execute_result",
          "data": {
            "text/plain": [
              "0"
            ]
          },
          "metadata": {},
          "execution_count": 104
        }
      ]
    },
    {
      "cell_type": "code",
      "source": [
        "print(stack)"
      ],
      "metadata": {
        "colab": {
          "base_uri": "https://localhost:8080/"
        },
        "id": "C-BrSYhM9yx_",
        "outputId": "a163d08d-e9fa-4277-c433-5b0924fe91ab"
      },
      "execution_count": 105,
      "outputs": [
        {
          "output_type": "stream",
          "name": "stdout",
          "text": [
            "[8, 4, 2, 6, 7]\n"
          ]
        }
      ]
    },
    {
      "cell_type": "markdown",
      "source": [
        "### **Queue**"
      ],
      "metadata": {
        "id": "jShK-Og__i6v"
      }
    },
    {
      "cell_type": "code",
      "source": [
        "from collections import deque #This library is needed for queue operation"
      ],
      "metadata": {
        "id": "ZdYcuJTL_t2o"
      },
      "execution_count": 106,
      "outputs": []
    },
    {
      "cell_type": "code",
      "source": [
        "queue = deque(['Hi', 'Hello', 'Hey'])\n",
        "\n",
        "queue.append('Hola')\n",
        "queue.append('Heyaa')\n",
        "print(queue)"
      ],
      "metadata": {
        "colab": {
          "base_uri": "https://localhost:8080/"
        },
        "id": "DNPIJ8B-_2OP",
        "outputId": "dd49d1d1-7809-4b9c-a000-3c048391f1a2"
      },
      "execution_count": 109,
      "outputs": [
        {
          "output_type": "stream",
          "name": "stdout",
          "text": [
            "deque(['Hi', 'Hello', 'Hey', 'Hola', 'Heyaa'])\n"
          ]
        }
      ]
    },
    {
      "cell_type": "code",
      "source": [
        "queue.popleft()"
      ],
      "metadata": {
        "colab": {
          "base_uri": "https://localhost:8080/",
          "height": 35
        },
        "id": "alaiF_U2_2Lg",
        "outputId": "071b845e-e833-4860-9ead-8adb17e69caa"
      },
      "execution_count": 110,
      "outputs": [
        {
          "output_type": "execute_result",
          "data": {
            "text/plain": [
              "'Hi'"
            ],
            "application/vnd.google.colaboratory.intrinsic+json": {
              "type": "string"
            }
          },
          "metadata": {},
          "execution_count": 110
        }
      ]
    },
    {
      "cell_type": "code",
      "source": [
        "queue.popleft()"
      ],
      "metadata": {
        "colab": {
          "base_uri": "https://localhost:8080/",
          "height": 35
        },
        "id": "gYjVGoZy_2G2",
        "outputId": "a374da91-693c-4f34-e431-51a2183a74c1"
      },
      "execution_count": 112,
      "outputs": [
        {
          "output_type": "execute_result",
          "data": {
            "text/plain": [
              "'Hello'"
            ],
            "application/vnd.google.colaboratory.intrinsic+json": {
              "type": "string"
            }
          },
          "metadata": {},
          "execution_count": 112
        }
      ]
    },
    {
      "cell_type": "code",
      "source": [
        "queue"
      ],
      "metadata": {
        "colab": {
          "base_uri": "https://localhost:8080/"
        },
        "id": "UVxJn9-w_mwO",
        "outputId": "92f8a937-596a-43f1-9b2d-17bcea42b716"
      },
      "execution_count": 113,
      "outputs": [
        {
          "output_type": "execute_result",
          "data": {
            "text/plain": [
              "deque(['Hey', 'Hola', 'Heyaa'])"
            ]
          },
          "metadata": {},
          "execution_count": 113
        }
      ]
    },
    {
      "cell_type": "markdown",
      "source": [
        "### Some popular example in stacks and queues: **Balancing Paranthesis Problem**"
      ],
      "metadata": {
        "id": "Bqn_pPaAAg52"
      }
    },
    {
      "cell_type": "markdown",
      "source": [
        "Check whether the brackets are balanced or not."
      ],
      "metadata": {
        "id": "3L7COfSIBCiH"
      }
    },
    {
      "cell_type": "code",
      "source": [
        "'''\n",
        "USING STACKS\n",
        "'''\n",
        "\n",
        "open_brackets = [\"[\",\"{\",\"(\"]\n",
        "close_brackets = [\"]\",\"}\",\")\"]\n",
        "  \n",
        "\n",
        "def balancingParanthesis(brackets):\n",
        "    stack = []\n",
        "    for i in brackets:\n",
        "        if i in open_brackets:\n",
        "            stack.append(i)\n",
        "        elif i in close_brackets:\n",
        "            pos = close_brackets.index(i)\n",
        "            if ((len(stack) > 0) and (open_brackets[pos] == stack[len(stack)-1])):\n",
        "                stack.pop()\n",
        "            else:\n",
        "                return \"Unbalanced\"\n",
        "    if len(stack) == 0:\n",
        "        return \"Balanced\"\n",
        "    else:\n",
        "        return \"Unbalanced\"\n",
        "  \n",
        "  \n",
        "\n",
        "brackets = \"{[]{()}}\"\n",
        "print(brackets, balancingParanthesis(brackets))"
      ],
      "metadata": {
        "colab": {
          "base_uri": "https://localhost:8080/"
        },
        "id": "pd8NL8a__mrC",
        "outputId": "ed695b32-a1df-4450-efdc-d61c42f0e9db"
      },
      "execution_count": 121,
      "outputs": [
        {
          "output_type": "stream",
          "name": "stdout",
          "text": [
            "{[]{()}} Balanced\n"
          ]
        }
      ]
    },
    {
      "cell_type": "code",
      "source": [
        "'''\n",
        "USING QUEUE\n",
        "'''\n",
        "\n",
        "def check(brackets):\n",
        "\n",
        "    open_brackets = tuple('({[')\n",
        "    close_brackets = tuple(')}]')\n",
        "    map = dict(zip(open_brackets, close_brackets))\n",
        "    queue = []\n",
        "  \n",
        "    for i in brackets:\n",
        "        if i in open_brackets:\n",
        "            queue.append(map[i])\n",
        "        elif i in close_brackets:\n",
        "            if not queue or i != queue.pop():\n",
        "                return \"Unbalanced\"\n",
        "    if not queue:\n",
        "        return \"Balanced\"\n",
        "    else:\n",
        "        return \"Unbalanced\"\n",
        "  \n",
        "  \n",
        "brackets = \"((()\"\n",
        "print(brackets,check(brackets))\n"
      ],
      "metadata": {
        "colab": {
          "base_uri": "https://localhost:8080/"
        },
        "id": "GIFdKdE18mkq",
        "outputId": "c28cffdf-c9c3-41ec-f5e3-7132a9f65697"
      },
      "execution_count": 124,
      "outputs": [
        {
          "output_type": "stream",
          "name": "stdout",
          "text": [
            "((() Unbalanced\n"
          ]
        }
      ]
    }
  ]
}