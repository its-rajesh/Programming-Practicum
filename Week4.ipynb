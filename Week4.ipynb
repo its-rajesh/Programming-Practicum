{
  "nbformat": 4,
  "nbformat_minor": 0,
  "metadata": {
    "colab": {
      "name": "Week4.ipynb",
      "provenance": [],
      "collapsed_sections": [],
      "authorship_tag": "ABX9TyP/vhFlfSAvwNSvmvHpD9+h",
      "include_colab_link": true
    },
    "kernelspec": {
      "name": "python3",
      "display_name": "Python 3"
    },
    "language_info": {
      "name": "python"
    }
  },
  "cells": [
    {
      "cell_type": "markdown",
      "metadata": {
        "id": "view-in-github",
        "colab_type": "text"
      },
      "source": [
        "<a href=\"https://colab.research.google.com/github/its-rajesh/Programming-Practicum/blob/main/Week4.ipynb\" target=\"_parent\"><img src=\"https://colab.research.google.com/assets/colab-badge.svg\" alt=\"Open In Colab\"/></a>"
      ]
    },
    {
      "cell_type": "markdown",
      "source": [
        "# **CS571: Week 4 | Advanced Data Types & String Manipulation**\n",
        "\n",
        "---\n",
        "\n",
        "\n",
        "*Course:* Programming Practicum (CS571)\n",
        "\n",
        "*Instructors:* Dr. Padmanabhan Rajan, Dr. Siddhartha Sarma\n",
        "\n",
        "*Tutorial prepared by:* Rajesh R (S21005)"
      ],
      "metadata": {
        "id": "90xuHsoWIMCK"
      }
    },
    {
      "cell_type": "markdown",
      "source": [
        "*Python offers four advanced builtin data types such as Lists, tuples, dictionary, and sets*\n",
        "\n",
        "\n",
        "---\n",
        "\n",
        "\n"
      ],
      "metadata": {
        "id": "-cQJ6X-T3cAP"
      }
    },
    {
      "cell_type": "markdown",
      "source": [
        "# **Tuples**"
      ],
      "metadata": {
        "id": "aGwRl_GuIhtP"
      }
    },
    {
      "cell_type": "markdown",
      "source": [
        "A tuple is a collection of datatypes which is ordered and unchangeable. Tuples are written with round brackets.\n",
        "\n",
        "* **Ordered**:  Items have a defined order, and that order will not change.\n",
        "* **Unchangeable**: We cannot change, add or remove items after the tuple has been created.\n",
        "* **Alows Duplicates**: Since tuples are indexed, they can have items with the same value.\n",
        "\n",
        "**Tuples vs List**\n",
        "1. Tuples are **immutable** objects the lists are **mutable**. Which means that tuples cannot be changed while the lists can be modified.\n",
        "2. Tuples are more memory efficient than the lists.\n",
        "3. When it comes to the time efficiency, again tuples have a slight advantage over the lists especially when lookup to a value is considered."
      ],
      "metadata": {
        "id": "197EpiyA7pCH"
      }
    },
    {
      "cell_type": "markdown",
      "source": [
        "### **Basics**"
      ],
      "metadata": {
        "id": "W23kGlik95LI"
      }
    },
    {
      "cell_type": "code",
      "source": [
        "sample_tuple = ('My', 'India')\n",
        "print(sample_tuple)"
      ],
      "metadata": {
        "id": "w4JjNGPyInHR",
        "colab": {
          "base_uri": "https://localhost:8080/"
        },
        "outputId": "831ee86e-53bb-49e9-e620-b462afbe0361"
      },
      "execution_count": null,
      "outputs": [
        {
          "output_type": "stream",
          "name": "stdout",
          "text": [
            "('My', 'India')\n"
          ]
        }
      ]
    },
    {
      "cell_type": "code",
      "source": [
        "print(len(sample_tuple))\n",
        "print(sample_tuple[0])\n",
        "print(sample_tuple[-1])"
      ],
      "metadata": {
        "id": "KZt9sT7xInD4",
        "colab": {
          "base_uri": "https://localhost:8080/"
        },
        "outputId": "27efde19-bc37-45ff-904d-a7118889093b"
      },
      "execution_count": null,
      "outputs": [
        {
          "output_type": "stream",
          "name": "stdout",
          "text": [
            "2\n",
            "My\n",
            "India\n"
          ]
        }
      ]
    },
    {
      "cell_type": "code",
      "source": [
        "tuple1 = (1, 2, 'Black sheep', 3, 4)\n",
        "tuple1"
      ],
      "metadata": {
        "id": "yGFR114KInBQ",
        "colab": {
          "base_uri": "https://localhost:8080/"
        },
        "outputId": "4ec011ee-2121-4dc1-b210-fd3325d70f40"
      },
      "execution_count": null,
      "outputs": [
        {
          "output_type": "execute_result",
          "data": {
            "text/plain": [
              "(1, 2, 'Black sheep', 3, 4)"
            ]
          },
          "metadata": {},
          "execution_count": 3
        }
      ]
    },
    {
      "cell_type": "code",
      "source": [
        "ttuple = (\"India\",)\n",
        "print(type(ttuple))\n",
        "\n",
        "ttuple = (\"India\") #atleast one comma is needed to make a tuple.\n",
        "print(type(ttuple))"
      ],
      "metadata": {
        "id": "wHwHaM1QIm-i",
        "colab": {
          "base_uri": "https://localhost:8080/"
        },
        "outputId": "e84c1e73-8672-4ecf-c8b0-a49cf9c7643f"
      },
      "execution_count": null,
      "outputs": [
        {
          "output_type": "stream",
          "name": "stdout",
          "text": [
            "<class 'tuple'>\n",
            "<class 'str'>\n"
          ]
        }
      ]
    },
    {
      "cell_type": "markdown",
      "source": [
        "### **Accessing and working**"
      ],
      "metadata": {
        "id": "6ZKCfq4r98uh"
      }
    },
    {
      "cell_type": "code",
      "source": [
        "# tuple() method converts specified valid datatype to typle\n",
        "\n",
        "l1 = [1, 2, 3, 4, 5]\n",
        "l2 = tuple(l1)\n",
        "print(l2, type(l2))"
      ],
      "metadata": {
        "colab": {
          "base_uri": "https://localhost:8080/"
        },
        "id": "YkILYdDf-GHn",
        "outputId": "ffaaf22a-cba4-4dcc-b291-fb5afb892fff"
      },
      "execution_count": null,
      "outputs": [
        {
          "output_type": "stream",
          "name": "stdout",
          "text": [
            "(1, 2, 3, 4, 5) <class 'tuple'>\n"
          ]
        }
      ]
    },
    {
      "cell_type": "code",
      "source": [
        "sample_tuple = (1, 2, 3, 4, 5, 6, 7, 8, 9, 10)\n",
        "\n",
        "print(sample_tuple[:])\n",
        "print(sample_tuple[::-1])\n",
        "print(sample_tuple[:5])\n",
        "print(sample_tuple[5:])\n",
        "print(sample_tuple[2:8])\n",
        "print(sample_tuple[-5:-2])"
      ],
      "metadata": {
        "colab": {
          "base_uri": "https://localhost:8080/"
        },
        "id": "iWt8JF9B-GE2",
        "outputId": "8c6e131a-f047-45fe-b6b1-9a606d2d51b4"
      },
      "execution_count": null,
      "outputs": [
        {
          "output_type": "stream",
          "name": "stdout",
          "text": [
            "(1, 2, 3, 4, 5, 6, 7, 8, 9, 10)\n",
            "(10, 9, 8, 7, 6, 5, 4, 3, 2, 1)\n",
            "(1, 2, 3, 4, 5)\n",
            "(6, 7, 8, 9, 10)\n",
            "(3, 4, 5, 6, 7, 8)\n",
            "(6, 7, 8)\n"
          ]
        }
      ]
    },
    {
      "cell_type": "code",
      "source": [
        "if 2 in sample_tuple:\n",
        "  print('Yes')"
      ],
      "metadata": {
        "colab": {
          "base_uri": "https://localhost:8080/"
        },
        "id": "egpyKDRT-GCa",
        "outputId": "c19296df-0cf0-4fdc-f089-821a7a3def25"
      },
      "execution_count": null,
      "outputs": [
        {
          "output_type": "stream",
          "name": "stdout",
          "text": [
            "Yes\n"
          ]
        }
      ]
    },
    {
      "cell_type": "markdown",
      "source": [
        "### **Immutable Property**"
      ],
      "metadata": {
        "id": "BurjqoSoBTV1"
      }
    },
    {
      "cell_type": "code",
      "source": [
        "sample_tuple = (1, 2, 3, 4, 5, 6, 7, 8, 9, 10)\n",
        "sample_tuple[3] = 10\n",
        "print(sample_tuple)"
      ],
      "metadata": {
        "colab": {
          "base_uri": "https://localhost:8080/",
          "height": 200
        },
        "id": "NPo8_x4uBVIL",
        "outputId": "942e4361-2e58-4ef7-8799-dab7a5d6fbec"
      },
      "execution_count": null,
      "outputs": [
        {
          "output_type": "error",
          "ename": "TypeError",
          "evalue": "ignored",
          "traceback": [
            "\u001b[0;31m---------------------------------------------------------------------------\u001b[0m",
            "\u001b[0;31mTypeError\u001b[0m                                 Traceback (most recent call last)",
            "\u001b[0;32m<ipython-input-10-9389f2d0b6fc>\u001b[0m in \u001b[0;36m<module>\u001b[0;34m()\u001b[0m\n\u001b[1;32m      1\u001b[0m \u001b[0msample_tuple\u001b[0m \u001b[0;34m=\u001b[0m \u001b[0;34m(\u001b[0m\u001b[0;36m1\u001b[0m\u001b[0;34m,\u001b[0m \u001b[0;36m2\u001b[0m\u001b[0;34m,\u001b[0m \u001b[0;36m3\u001b[0m\u001b[0;34m,\u001b[0m \u001b[0;36m4\u001b[0m\u001b[0;34m,\u001b[0m \u001b[0;36m5\u001b[0m\u001b[0;34m,\u001b[0m \u001b[0;36m6\u001b[0m\u001b[0;34m,\u001b[0m \u001b[0;36m7\u001b[0m\u001b[0;34m,\u001b[0m \u001b[0;36m8\u001b[0m\u001b[0;34m,\u001b[0m \u001b[0;36m9\u001b[0m\u001b[0;34m,\u001b[0m \u001b[0;36m10\u001b[0m\u001b[0;34m)\u001b[0m\u001b[0;34m\u001b[0m\u001b[0;34m\u001b[0m\u001b[0m\n\u001b[0;32m----> 2\u001b[0;31m \u001b[0msample_tuple\u001b[0m\u001b[0;34m[\u001b[0m\u001b[0;36m3\u001b[0m\u001b[0;34m]\u001b[0m \u001b[0;34m=\u001b[0m \u001b[0;36m10\u001b[0m\u001b[0;34m\u001b[0m\u001b[0;34m\u001b[0m\u001b[0m\n\u001b[0m\u001b[1;32m      3\u001b[0m \u001b[0mprint\u001b[0m\u001b[0;34m(\u001b[0m\u001b[0msample_tuple\u001b[0m\u001b[0;34m)\u001b[0m\u001b[0;34m\u001b[0m\u001b[0;34m\u001b[0m\u001b[0m\n",
            "\u001b[0;31mTypeError\u001b[0m: 'tuple' object does not support item assignment"
          ]
        }
      ]
    },
    {
      "cell_type": "markdown",
      "source": [
        "To change, one can convert tuple to list and update and revert it back to tuple."
      ],
      "metadata": {
        "id": "aiNZeVoJBvEC"
      }
    },
    {
      "cell_type": "markdown",
      "source": [
        "### **Tuple operations**"
      ],
      "metadata": {
        "id": "OT8CqBiyB3mr"
      }
    },
    {
      "cell_type": "code",
      "source": [
        "tup1 = (1, 2, 3)\n",
        "tup2 = (4, 5, 6)\n",
        "\n",
        "concattup = tup1 + tup2\n",
        "print(concattup)"
      ],
      "metadata": {
        "colab": {
          "base_uri": "https://localhost:8080/"
        },
        "id": "2a4PR8srB252",
        "outputId": "cae1b2e6-f7de-4951-81e1-678db2574210"
      },
      "execution_count": null,
      "outputs": [
        {
          "output_type": "stream",
          "name": "stdout",
          "text": [
            "(1, 2, 3, 4, 5, 6)\n"
          ]
        }
      ]
    },
    {
      "cell_type": "code",
      "source": [
        "tup1 = (1, 2, 3)\n",
        "\n",
        "multtup = tup1*3\n",
        "print(multtup)"
      ],
      "metadata": {
        "colab": {
          "base_uri": "https://localhost:8080/"
        },
        "id": "Q8LDiF2bBVC9",
        "outputId": "4ee75cb6-f5c0-44e2-a6f4-074a800d3c7a"
      },
      "execution_count": null,
      "outputs": [
        {
          "output_type": "stream",
          "name": "stdout",
          "text": [
            "(1, 2, 3, 1, 2, 3, 1, 2, 3)\n"
          ]
        }
      ]
    },
    {
      "cell_type": "markdown",
      "source": [
        "### **Multidimensional tuple**"
      ],
      "metadata": {
        "id": "353dLQ9JMio-"
      }
    },
    {
      "cell_type": "code",
      "source": [
        "tup = ((1, 2), (1, 3), (1, 4), (1, 5), (1, 6))\n",
        "\n",
        "print(tup[0])\n",
        "\n",
        "x, y = tup[0]\n",
        "print(x, y)"
      ],
      "metadata": {
        "colab": {
          "base_uri": "https://localhost:8080/"
        },
        "id": "ELKW3bNWBVAF",
        "outputId": "1c54b8c7-b3d8-4a36-c974-c8f030255fc0"
      },
      "execution_count": null,
      "outputs": [
        {
          "output_type": "stream",
          "name": "stdout",
          "text": [
            "(1, 2)\n",
            "1 2\n"
          ]
        }
      ]
    },
    {
      "cell_type": "markdown",
      "source": [
        "# **Set**"
      ],
      "metadata": {
        "id": "k9I6y7zBInyp"
      }
    },
    {
      "cell_type": "markdown",
      "source": [
        "Set items are unordered, unchangeable, and do not allow duplicate values. It is written with curly braces {}\n",
        "\n",
        "All operations are similar to tuples.\n",
        "\n",
        "Set can be used to remove duplicates and various set operations can be taken like union, intersection."
      ],
      "metadata": {
        "id": "aL6V_4hbNKBA"
      }
    },
    {
      "cell_type": "code",
      "source": [
        "set1 = {\"Hi\", \"Hello\", \"Hey\"}\n",
        "\n",
        "print(set1, type(set1))"
      ],
      "metadata": {
        "id": "xeOwrA6cIwqa",
        "colab": {
          "base_uri": "https://localhost:8080/"
        },
        "outputId": "0c2e6d2d-cd6f-427b-c0c6-0aeb04de24ea"
      },
      "execution_count": null,
      "outputs": [
        {
          "output_type": "stream",
          "name": "stdout",
          "text": [
            "{'Hey', 'Hi', 'Hello'} <class 'set'>\n"
          ]
        }
      ]
    },
    {
      "cell_type": "code",
      "source": [
        "list1 = ['Hi', 'Hello', 'Hey', 'Heya', 'Hola', 'Hey'] #Note 'Hey' repeated twice\n",
        "set2 = set(list1) #Used to convert valid datatype to set\n",
        "print(list1, set2, sep='\\n') #Set2 removes duplicates."
      ],
      "metadata": {
        "id": "XW2WQvpgIwnY",
        "colab": {
          "base_uri": "https://localhost:8080/"
        },
        "outputId": "66d6bcb1-913c-4517-c1f4-6f82399f583c"
      },
      "execution_count": null,
      "outputs": [
        {
          "output_type": "stream",
          "name": "stdout",
          "text": [
            "['Hi', 'Hello', 'Hey', 'Heya', 'Hola', 'Hey']\n",
            "{'Hi', 'Hola', 'Hello', 'Hey', 'Heya'}\n"
          ]
        }
      ]
    },
    {
      "cell_type": "code",
      "source": [
        "s1 = {1, 2, 3, 4, 5, 6}\n",
        "s2 = {5, 6, 7, 8, 9, 10}\n",
        "\n",
        "s3 = s1.intersection(s2)\n",
        "print(s3)\n",
        "\n",
        "s4 = s1.union(s2)\n",
        "print(s4)"
      ],
      "metadata": {
        "id": "sSIqbGClIwkw",
        "colab": {
          "base_uri": "https://localhost:8080/"
        },
        "outputId": "757a8589-b836-492c-8214-db0ac9a494f5"
      },
      "execution_count": null,
      "outputs": [
        {
          "output_type": "stream",
          "name": "stdout",
          "text": [
            "{5, 6}\n",
            "{1, 2, 3, 4, 5, 6, 7, 8, 9, 10}\n"
          ]
        }
      ]
    },
    {
      "cell_type": "markdown",
      "source": [
        "More set methods such as difference, symmmetric difference, and so on can be seen [here](https://python.readthedocs.io/en/v2.7.2/library/sets.html)"
      ],
      "metadata": {
        "id": "CRlk2ocVPqeo"
      }
    },
    {
      "cell_type": "markdown",
      "source": [
        "# **Dictionary**"
      ],
      "metadata": {
        "id": "1UAGUbggAQ4X"
      }
    },
    {
      "cell_type": "markdown",
      "source": [
        "### **Basics**"
      ],
      "metadata": {
        "id": "mOEibV-0Z-OY"
      }
    },
    {
      "cell_type": "markdown",
      "source": [
        "List, Tuple and Sets are indexed by numbers from 0. In Dictionary we use 'key' as index to access the elements called 'values'.\n",
        "\n",
        "Dictionary also used to store more than one datatype but in a key - value pair. It is written in curly braces.\n",
        "\n",
        "**Syntax**:\n",
        "\n",
        "\n",
        "```\n",
        "dictionary = {key:value, key:value,....}\n",
        "```\n",
        "\n",
        "\n"
      ],
      "metadata": {
        "id": "s2C9f4OkVTE3"
      }
    },
    {
      "cell_type": "code",
      "source": [
        "dictionary = {'Name':'Rajesh', 'Institute':'IIT Mandi', 'Programme':'MS by Research', 'Year':2022}\n",
        "print(dictionary)"
      ],
      "metadata": {
        "id": "hLUKZT5iARih",
        "colab": {
          "base_uri": "https://localhost:8080/"
        },
        "outputId": "f0423892-383e-4323-8e50-25963ac91d1d"
      },
      "execution_count": 2,
      "outputs": [
        {
          "output_type": "stream",
          "name": "stdout",
          "text": [
            "{'Name': 'Rajesh', 'Institute': 'IIT Mandi', 'Programme': 'MS by Research', 'Year': 2022}\n"
          ]
        }
      ]
    },
    {
      "cell_type": "markdown",
      "source": [
        "Dictionary items are the key:value pairs, and can be accessed the values by key name.\n",
        "\n",
        "Dictionary items are ordered, changeable, and does not allow duplicates.\n",
        "\n"
      ],
      "metadata": {
        "id": "0RHkgzggWtUc"
      }
    },
    {
      "cell_type": "code",
      "source": [
        "dictionary = {'Name':'Rajesh', 'Institute':'IIT Mandi', 'Programme':'MS by Research', 'Year':2022}\n",
        "print(dictionary)\n",
        "print(dictionary['Institute'])\n",
        "print(dictionary['Programme'])\n",
        "print(dictionary['Year'])\n",
        "print(len(dictionary))"
      ],
      "metadata": {
        "colab": {
          "base_uri": "https://localhost:8080/"
        },
        "id": "UcRvWX_dWr2P",
        "outputId": "663d9a24-d391-49ab-fd73-9af4e9036143"
      },
      "execution_count": 4,
      "outputs": [
        {
          "output_type": "stream",
          "name": "stdout",
          "text": [
            "{'Name': 'Rajesh', 'Institute': 'IIT Mandi', 'Programme': 'MS by Research', 'Year': 2022}\n",
            "IIT Mandi\n",
            "MS by Research\n",
            "2022\n",
            "4\n"
          ]
        }
      ]
    },
    {
      "cell_type": "markdown",
      "source": [
        "To get all the keys and all the values in a list use:\n",
        "\n",
        "\n",
        "```\n",
        "dictionary.keys()\n",
        "dictionary.values()\n",
        "```\n",
        "\n"
      ],
      "metadata": {
        "id": "99HwG23eXc_7"
      }
    },
    {
      "cell_type": "code",
      "source": [
        "print(dictionary.keys()) #Prints all the keys in the dictionary as list\n",
        "print(dictionary.values()) #Prints all the values in the dictionary as list"
      ],
      "metadata": {
        "colab": {
          "base_uri": "https://localhost:8080/"
        },
        "id": "tNmlUnzVWrzl",
        "outputId": "15d127ee-2cca-49f7-f177-c7767bf6eb89"
      },
      "execution_count": 5,
      "outputs": [
        {
          "output_type": "stream",
          "name": "stdout",
          "text": [
            "dict_keys(['Name', 'Institute', 'Programme', 'Year'])\n",
            "dict_values(['Rajesh', 'IIT Mandi', 'MS by Research', 2022])\n"
          ]
        }
      ]
    },
    {
      "cell_type": "markdown",
      "source": [
        "To get all items in the dictionary as tuples use:\n",
        "\n",
        "\n",
        "```\n",
        "dictionary.items()\n",
        "\n",
        "```\n",
        "\n"
      ],
      "metadata": {
        "id": "raQm8pZYYBit"
      }
    },
    {
      "cell_type": "code",
      "source": [
        "print(dictionary.items())"
      ],
      "metadata": {
        "colab": {
          "base_uri": "https://localhost:8080/"
        },
        "id": "h0c2oU_KWrw_",
        "outputId": "7ac85ab6-b912-4542-8b95-476ab7464ed6"
      },
      "execution_count": 6,
      "outputs": [
        {
          "output_type": "stream",
          "name": "stdout",
          "text": [
            "dict_items([('Name', 'Rajesh'), ('Institute', 'IIT Mandi'), ('Programme', 'MS by Research'), ('Year', 2022)])\n"
          ]
        }
      ]
    },
    {
      "cell_type": "markdown",
      "source": [
        "Unlike tuples and sets, dictionary items are changeable. We can update in two ways:\n",
        "1. By directly accessing tru key.\n",
        "2. Using ```Update()``` method\n",
        "\n"
      ],
      "metadata": {
        "id": "-OID2vIlYgtu"
      }
    },
    {
      "cell_type": "code",
      "source": [
        "dictionary['Year'] = 2000\n",
        "print(dictionary)"
      ],
      "metadata": {
        "colab": {
          "base_uri": "https://localhost:8080/"
        },
        "id": "w4WC0YFhWrua",
        "outputId": "ca96a969-6923-455a-8c81-72b2a5c665a7"
      },
      "execution_count": 7,
      "outputs": [
        {
          "output_type": "stream",
          "name": "stdout",
          "text": [
            "{'Name': 'Rajesh', 'Institute': 'IIT Mandi', 'Programme': 'MS by Research', 'Year': 2000}\n"
          ]
        }
      ]
    },
    {
      "cell_type": "code",
      "source": [
        "dictionary.update({\"Name\": \"Naisarg\"})\n",
        "print(dictionary)"
      ],
      "metadata": {
        "colab": {
          "base_uri": "https://localhost:8080/"
        },
        "id": "ZbQyKXeFWrsE",
        "outputId": "824320c1-056b-4c4c-ce6f-ab91a1e2bfbd"
      },
      "execution_count": 9,
      "outputs": [
        {
          "output_type": "stream",
          "name": "stdout",
          "text": [
            "{'Name': 'Naisarg', 'Institute': 'IIT Mandi', 'Programme': 'MS by Research', 'Year': 2000}\n"
          ]
        }
      ]
    },
    {
      "cell_type": "markdown",
      "source": [
        "### **Adding, Removing, and Copying**"
      ],
      "metadata": {
        "id": "ZIuBL5hfaCF3"
      }
    },
    {
      "cell_type": "code",
      "source": [
        "dictionary = {'Name':'Rajesh', 'Institute':'IIT Mandi', 'Programme':'MS by Research', 'Year':2022}\n",
        "print(dictionary)\n",
        "print(dictionary.keys())\n",
        "print(dictionary.values())"
      ],
      "metadata": {
        "colab": {
          "base_uri": "https://localhost:8080/"
        },
        "id": "gCs6EeLpWrpt",
        "outputId": "9544995e-3a5d-42af-d666-d019181a227a"
      },
      "execution_count": 11,
      "outputs": [
        {
          "output_type": "stream",
          "name": "stdout",
          "text": [
            "{'Name': 'Rajesh', 'Institute': 'IIT Mandi', 'Programme': 'MS by Research', 'Year': 2022}\n",
            "dict_keys(['Name', 'Institute', 'Programme', 'Year'])\n",
            "dict_values(['Rajesh', 'IIT Mandi', 'MS by Research', 2022])\n"
          ]
        }
      ]
    },
    {
      "cell_type": "code",
      "source": [
        "dictionary['Rollno'] = 'S21005' #Adding element to dict\n",
        "print(dictionary)\n",
        "print(dictionary.keys())\n",
        "print(dictionary.values())"
      ],
      "metadata": {
        "colab": {
          "base_uri": "https://localhost:8080/"
        },
        "id": "DhGxJsi5Wrm2",
        "outputId": "44d48ad9-5644-4197-a57a-1fc018072880"
      },
      "execution_count": 14,
      "outputs": [
        {
          "output_type": "stream",
          "name": "stdout",
          "text": [
            "{'Name': 'Rajesh', 'Institute': 'IIT Mandi', 'Programme': 'MS by Research', 'Year': 2022, 'Rollno': 'S21005'}\n",
            "dict_keys(['Name', 'Institute', 'Programme', 'Year', 'Rollno'])\n",
            "dict_values(['Rajesh', 'IIT Mandi', 'MS by Research', 2022, 'S21005'])\n"
          ]
        }
      ]
    },
    {
      "cell_type": "code",
      "source": [
        "dictionary.update({'Rollno':'S21005'}) #Adding element to dict using update\n",
        "print(dictionary)"
      ],
      "metadata": {
        "colab": {
          "base_uri": "https://localhost:8080/"
        },
        "id": "eOCUUB_xWrkf",
        "outputId": "0d11bed6-1603-48dc-9ff2-d4bdf833dcf4"
      },
      "execution_count": 20,
      "outputs": [
        {
          "output_type": "stream",
          "name": "stdout",
          "text": [
            "{'Name': 'Rajesh', 'Institute': 'IIT Mandi', 'Programme': 'MS by Research', 'Year': 2022, 'Rollno': 'S21005'}\n"
          ]
        }
      ]
    },
    {
      "cell_type": "markdown",
      "source": [
        "Deletion can be done by:\n",
        "1. **pop()** method removes the item with specified key name\n",
        "2. **popitem()** method removes the last item in the dictionary\n",
        "3. **del** keyword deletes the item with specified key name. NOTE: **del** can also delete the entire dictionary if no item is specified.\n",
        "4. **clear()** method removes all the item in the dictionary"
      ],
      "metadata": {
        "id": "0MJVwxThbp-_"
      }
    },
    {
      "cell_type": "code",
      "source": [
        "print(dictionary.pop(\"Rollno\"))\n",
        "print(dictionary)"
      ],
      "metadata": {
        "colab": {
          "base_uri": "https://localhost:8080/"
        },
        "id": "ts_qfN4cWrhc",
        "outputId": "b56aab38-17bf-4813-98c3-419e617e0e0f"
      },
      "execution_count": 21,
      "outputs": [
        {
          "output_type": "stream",
          "name": "stdout",
          "text": [
            "S21005\n",
            "{'Name': 'Rajesh', 'Institute': 'IIT Mandi', 'Programme': 'MS by Research', 'Year': 2022}\n"
          ]
        }
      ]
    },
    {
      "cell_type": "code",
      "source": [
        "print(dictionary.popitem())\n",
        "print(dictionary)"
      ],
      "metadata": {
        "colab": {
          "base_uri": "https://localhost:8080/"
        },
        "id": "xJzemdrobTFy",
        "outputId": "ce97d1cc-a007-4f38-e86c-70550c5b2d0a"
      },
      "execution_count": 22,
      "outputs": [
        {
          "output_type": "stream",
          "name": "stdout",
          "text": [
            "('Year', 2022)\n",
            "{'Name': 'Rajesh', 'Institute': 'IIT Mandi', 'Programme': 'MS by Research'}\n"
          ]
        }
      ]
    },
    {
      "cell_type": "code",
      "source": [
        "del dictionary[\"Name\"]\n",
        "print(dictionary)"
      ],
      "metadata": {
        "colab": {
          "base_uri": "https://localhost:8080/"
        },
        "id": "ANrvrK4MbTDL",
        "outputId": "451f6f61-ba88-4d0d-dcc8-c3b7710a8418"
      },
      "execution_count": 23,
      "outputs": [
        {
          "output_type": "stream",
          "name": "stdout",
          "text": [
            "{'Institute': 'IIT Mandi', 'Programme': 'MS by Research'}\n"
          ]
        }
      ]
    },
    {
      "cell_type": "code",
      "source": [
        "dictionary.clear()\n",
        "print(dictionary)"
      ],
      "metadata": {
        "colab": {
          "base_uri": "https://localhost:8080/"
        },
        "id": "2-6jieXAbTAj",
        "outputId": "a772e0cd-3b6b-4745-d449-49ad441115d8"
      },
      "execution_count": 24,
      "outputs": [
        {
          "output_type": "stream",
          "name": "stdout",
          "text": [
            "{}\n"
          ]
        }
      ]
    },
    {
      "cell_type": "markdown",
      "source": [
        "Similar to list, just assigning dictionary2 = dictionary2 will do shallow copy only. The changes made in dictionary2 will get reflected in dictionary1.\n",
        "\n",
        "To do deep copy, **copy()** method is used."
      ],
      "metadata": {
        "id": "ORn8nlZBdC2S"
      }
    },
    {
      "cell_type": "code",
      "source": [
        "dictionary1 = {'Name':'Rajesh', 'Institute':'IIT Mandi', 'Programme':'MS by Research', 'Year':2022}\n",
        "dictionary2 = dictionary1 #shallow copy\n",
        "\n",
        "dictionary2['Rollno'] = 'S21005'\n",
        "\n",
        "print(dictionary2, dictionary1, sep='\\n') #Changes in second dict gets reflected."
      ],
      "metadata": {
        "colab": {
          "base_uri": "https://localhost:8080/"
        },
        "id": "SIbCXbGhbS99",
        "outputId": "255fdfd2-f2e6-415b-f552-19f2d8a81f6a"
      },
      "execution_count": 27,
      "outputs": [
        {
          "output_type": "stream",
          "name": "stdout",
          "text": [
            "{'Name': 'Rajesh', 'Institute': 'IIT Mandi', 'Programme': 'MS by Research', 'Year': 2022, 'Rollno': 'S21005'}\n",
            "{'Name': 'Rajesh', 'Institute': 'IIT Mandi', 'Programme': 'MS by Research', 'Year': 2022, 'Rollno': 'S21005'}\n"
          ]
        }
      ]
    },
    {
      "cell_type": "code",
      "source": [
        "dictionary1 = {'Name':'Rajesh', 'Institute':'IIT Mandi', 'Programme':'MS by Research', 'Year':2022}\n",
        "dictionary2 = dictionary1.copy() #Deep copy\n",
        "\n",
        "dictionary2['Rollno'] = 'S21005'\n",
        "\n",
        "print(dictionary2, dictionary1, sep='\\n') #Changes in second dict does not get reflected."
      ],
      "metadata": {
        "colab": {
          "base_uri": "https://localhost:8080/"
        },
        "id": "OEW0Jz9vbS7W",
        "outputId": "541c4048-0e06-47da-ae85-055701d98dab"
      },
      "execution_count": 30,
      "outputs": [
        {
          "output_type": "stream",
          "name": "stdout",
          "text": [
            "{'Name': 'Rajesh', 'Institute': 'IIT Mandi', 'Programme': 'MS by Research', 'Year': 2022, 'Rollno': 'S21005'}\n",
            "{'Name': 'Rajesh', 'Institute': 'IIT Mandi', 'Programme': 'MS by Research', 'Year': 2022}\n"
          ]
        }
      ]
    },
    {
      "cell_type": "markdown",
      "source": [
        "### **Accessing and dict methods**"
      ],
      "metadata": {
        "id": "YWI-pNKVfswe"
      }
    },
    {
      "cell_type": "markdown",
      "source": [
        "Looping through dictionary"
      ],
      "metadata": {
        "id": "Gczu7kyNf-Y_"
      }
    },
    {
      "cell_type": "code",
      "source": [
        "dictionary = {'Name':'Rajesh', 'Institute':'IIT Mandi', 'Programme':'MS by Research', 'Year':2022}\n",
        "\n",
        "for keys in dictionary:\n",
        "  print(keys)"
      ],
      "metadata": {
        "colab": {
          "base_uri": "https://localhost:8080/"
        },
        "id": "MKK1Z3gybS44",
        "outputId": "283691d6-1af9-42a4-fc0e-4366c482e888"
      },
      "execution_count": 32,
      "outputs": [
        {
          "output_type": "stream",
          "name": "stdout",
          "text": [
            "Name\n",
            "Institute\n",
            "Programme\n",
            "Year\n"
          ]
        }
      ]
    },
    {
      "cell_type": "code",
      "source": [
        "for key, value in dictionary.items():\n",
        "  print(key, value)"
      ],
      "metadata": {
        "colab": {
          "base_uri": "https://localhost:8080/"
        },
        "id": "wiKZlFlzWreg",
        "outputId": "a426ce53-69ec-4e34-9f16-3c8478533a76"
      },
      "execution_count": 33,
      "outputs": [
        {
          "output_type": "stream",
          "name": "stdout",
          "text": [
            "Name Rajesh\n",
            "Institute IIT Mandi\n",
            "Programme MS by Research\n",
            "Year 2022\n"
          ]
        }
      ]
    },
    {
      "cell_type": "markdown",
      "source": [
        "More methods can be found [here](https://python-reference.readthedocs.io/en/latest/docs/dict/)"
      ],
      "metadata": {
        "id": "cN2lqtPkg2P8"
      }
    },
    {
      "cell_type": "markdown",
      "source": [
        "# **Summary**"
      ],
      "metadata": {
        "id": "s5LqwZDF_fVH"
      }
    },
    {
      "cell_type": "markdown",
      "source": [
        "There are four collection data types in the Python programming language:\n",
        "\n",
        "1. **List** is a collection which is ordered and changeable. Allows duplicate members.\n",
        "2. **Tuple** is a collection which is ordered and unchangeable. Allows duplicate members.\n",
        "3. **Set** is a collection which is unordered, unchangeable (but you can remove and/or add items whenever you like), and unindexed. No duplicate members.\n",
        "4. **Dictionary** is a collection which is ordered (As of Python version 3.7, dictionaries are ordered. In Python 3.6 and earlier, dictionaries are unordered) and changeable. No duplicate members."
      ],
      "metadata": {
        "id": "eeClVPq5_k_O"
      }
    },
    {
      "cell_type": "markdown",
      "source": [
        "# **Strings Manipulation**"
      ],
      "metadata": {
        "id": "KVLcwkABIx83"
      }
    },
    {
      "cell_type": "markdown",
      "source": [
        "### **Python Strings Basics**\n",
        "\n"
      ],
      "metadata": {
        "id": "b3P17RMWiyQL"
      }
    },
    {
      "cell_type": "markdown",
      "source": [
        "Strings in python are surrounded by either single quotation marks, or double quotation marks. Single quotes and double quotes can be used interchangeably here."
      ],
      "metadata": {
        "id": "nhb8DPwai_sP"
      }
    },
    {
      "cell_type": "code",
      "source": [
        "char = 'a'\n",
        "word = 'Hello'\n",
        "sentence = \"Not everything that counts can be counted, and not everything that counted truly counts\"\n",
        "multiline = \"\"\"If a continuous time signal contains no frequency components higher than W hz, \n",
        "            then it can be completely determined by uniform samples \n",
        "            taken at a rate fs samples per second where fs>=2W\n",
        "            or, in term of the sampling period T<= 1/2W.\"\"\"\n"
      ],
      "metadata": {
        "id": "8T47jtiSizk2"
      },
      "execution_count": 34,
      "outputs": []
    },
    {
      "cell_type": "markdown",
      "source": [
        "### **Slicing, Indexing and Formatting**"
      ],
      "metadata": {
        "id": "DnqXTUtwk6Rg"
      }
    },
    {
      "cell_type": "markdown",
      "source": [
        "Slicing can be done by specifing the position. If left blanket if assumes the start/end accordingly."
      ],
      "metadata": {
        "id": "OC784E0ole92"
      }
    },
    {
      "cell_type": "code",
      "source": [
        "print(sentence[20:50])"
      ],
      "metadata": {
        "colab": {
          "base_uri": "https://localhost:8080/"
        },
        "id": "lQ5MY8raizhc",
        "outputId": "3a6c9f67-abe4-48c4-c935-7014975a71ab"
      },
      "execution_count": 35,
      "outputs": [
        {
          "output_type": "stream",
          "name": "stdout",
          "text": [
            "counts can be counted, and not\n"
          ]
        }
      ]
    },
    {
      "cell_type": "code",
      "source": [
        "print(sentence[:41])"
      ],
      "metadata": {
        "colab": {
          "base_uri": "https://localhost:8080/"
        },
        "id": "z8Byc81qlxmh",
        "outputId": "8a24f19c-1c46-4a70-8a0b-9e4f82b1428b"
      },
      "execution_count": 38,
      "outputs": [
        {
          "output_type": "stream",
          "name": "stdout",
          "text": [
            "Not everything that counts can be counted\n"
          ]
        }
      ]
    },
    {
      "cell_type": "code",
      "source": [
        "print(sentence[46:])"
      ],
      "metadata": {
        "colab": {
          "base_uri": "https://localhost:8080/"
        },
        "id": "LchQ5DizlxkY",
        "outputId": "e5dab43b-9f5f-4cd0-ceb8-4527c9e90868"
      },
      "execution_count": 41,
      "outputs": [
        {
          "output_type": "stream",
          "name": "stdout",
          "text": [
            " not everything that counted truly counts\n"
          ]
        }
      ]
    },
    {
      "cell_type": "code",
      "source": [
        "print(sentence[-36:-13])"
      ],
      "metadata": {
        "colab": {
          "base_uri": "https://localhost:8080/"
        },
        "id": "9d2jaU23makk",
        "outputId": "f90ac771-bc46-48a7-bf10-3ca461924b3f"
      },
      "execution_count": 50,
      "outputs": [
        {
          "output_type": "stream",
          "name": "stdout",
          "text": [
            "everything that counted\n"
          ]
        }
      ]
    },
    {
      "cell_type": "markdown",
      "source": [
        "Reversing can be done in many ways. Using rev() method, or by for loop, or by slicing."
      ],
      "metadata": {
        "id": "ZrCijqRImLy-"
      }
    },
    {
      "cell_type": "code",
      "source": [
        "print(word[::-1]) #Reverse"
      ],
      "metadata": {
        "colab": {
          "base_uri": "https://localhost:8080/"
        },
        "id": "c4YRUicwlxhU",
        "outputId": "07406225-e3d4-4314-9b05-35f385822e08"
      },
      "execution_count": 42,
      "outputs": [
        {
          "output_type": "stream",
          "name": "stdout",
          "text": [
            "olleH\n"
          ]
        }
      ]
    },
    {
      "cell_type": "code",
      "source": [
        "for i in word:\n",
        "  print(i)"
      ],
      "metadata": {
        "colab": {
          "base_uri": "https://localhost:8080/"
        },
        "id": "hGv4CuHZlxe5",
        "outputId": "cf357507-496b-4fe2-f69d-3ea14a24ba59"
      },
      "execution_count": 51,
      "outputs": [
        {
          "output_type": "stream",
          "name": "stdout",
          "text": [
            "H\n",
            "e\n",
            "l\n",
            "l\n",
            "o\n"
          ]
        }
      ]
    },
    {
      "cell_type": "markdown",
      "source": [
        "String formatting can be done by + or *. Can use typecasting if needed."
      ],
      "metadata": {
        "id": "BN-r4v68m47g"
      }
    },
    {
      "cell_type": "code",
      "source": [
        "name = 'Rajesh'\n",
        "lastname = 'R'\n",
        "\n",
        "print(name+lastname)"
      ],
      "metadata": {
        "colab": {
          "base_uri": "https://localhost:8080/"
        },
        "id": "SskeAhpWiy0y",
        "outputId": "3ea957b2-bc59-4c1d-b56a-ae8948a720a7"
      },
      "execution_count": 52,
      "outputs": [
        {
          "output_type": "stream",
          "name": "stdout",
          "text": [
            "RajeshR\n"
          ]
        }
      ]
    },
    {
      "cell_type": "code",
      "source": [
        "print(\"Hey I am\", name, lastname, \"from IIT Mandi\")"
      ],
      "metadata": {
        "colab": {
          "base_uri": "https://localhost:8080/"
        },
        "id": "XtA1bCfhiyCF",
        "outputId": "70cbe130-3406-470a-849a-53b620dd8568"
      },
      "execution_count": 61,
      "outputs": [
        {
          "output_type": "stream",
          "name": "stdout",
          "text": [
            "Hey I am Rajesh R from IIT Mandi\n"
          ]
        }
      ]
    },
    {
      "cell_type": "code",
      "source": [
        "print(\"Hey I am \" + name +\" \"+lastname + \" from IIT Mandi\")"
      ],
      "metadata": {
        "colab": {
          "base_uri": "https://localhost:8080/"
        },
        "id": "ww4zeCdnnjSC",
        "outputId": "bd9f66b5-7b27-4fa0-b67b-4f50a1fe0467"
      },
      "execution_count": 62,
      "outputs": [
        {
          "output_type": "stream",
          "name": "stdout",
          "text": [
            "Hey I am Rajesh R from IIT Mandi\n"
          ]
        }
      ]
    },
    {
      "cell_type": "code",
      "source": [
        "print(\"Hey I am {} {} from IIT Mandi\".format(name, lastname)) #The most efficient way among others"
      ],
      "metadata": {
        "colab": {
          "base_uri": "https://localhost:8080/"
        },
        "id": "3aQrH0ISnjPT",
        "outputId": "e00cbd77-38b5-4ec2-d826-7b73ae738175"
      },
      "execution_count": 63,
      "outputs": [
        {
          "output_type": "stream",
          "name": "stdout",
          "text": [
            "Hey I am Rajesh R from IIT Mandi\n"
          ]
        }
      ]
    },
    {
      "cell_type": "markdown",
      "source": [
        "### **Escape Sequence**"
      ],
      "metadata": {
        "id": "wZv5X3XrofhL"
      }
    },
    {
      "cell_type": "markdown",
      "source": [
        "try printing  ```\\```\n",
        "\n"
      ],
      "metadata": {
        "id": "mqueEqzsonSj"
      }
    },
    {
      "cell_type": "code",
      "source": [
        "print('\\')"
      ],
      "metadata": {
        "id": "5N1ud2jIIy5A",
        "colab": {
          "base_uri": "https://localhost:8080/",
          "height": 133
        },
        "outputId": "42e372af-dd53-4a43-bffe-46106d100ecc"
      },
      "execution_count": 64,
      "outputs": [
        {
          "output_type": "error",
          "ename": "SyntaxError",
          "evalue": "ignored",
          "traceback": [
            "\u001b[0;36m  File \u001b[0;32m\"<ipython-input-64-eaac87876c3b>\"\u001b[0;36m, line \u001b[0;32m1\u001b[0m\n\u001b[0;31m    print('\\')\u001b[0m\n\u001b[0m              ^\u001b[0m\n\u001b[0;31mSyntaxError\u001b[0m\u001b[0;31m:\u001b[0m EOL while scanning string literal\n"
          ]
        }
      ]
    },
    {
      "cell_type": "code",
      "source": [
        "print(\"\\\")"
      ],
      "metadata": {
        "id": "Rqhpl0jII8zw",
        "colab": {
          "base_uri": "https://localhost:8080/",
          "height": 133
        },
        "outputId": "46d421a0-0ad6-4bad-fc34-2a0027443bd5"
      },
      "execution_count": 65,
      "outputs": [
        {
          "output_type": "error",
          "ename": "SyntaxError",
          "evalue": "ignored",
          "traceback": [
            "\u001b[0;36m  File \u001b[0;32m\"<ipython-input-65-dff1232de400>\"\u001b[0;36m, line \u001b[0;32m1\u001b[0m\n\u001b[0;31m    print(\"\\\")\u001b[0m\n\u001b[0m              ^\u001b[0m\n\u001b[0;31mSyntaxError\u001b[0m\u001b[0;31m:\u001b[0m EOL while scanning string literal\n"
          ]
        }
      ]
    },
    {
      "cell_type": "markdown",
      "source": [
        "It produces error. We need to use specific escape sequence to print specified special characters"
      ],
      "metadata": {
        "id": "QOmVHInco7Nj"
      }
    },
    {
      "cell_type": "code",
      "source": [
        "print('\\\\')"
      ],
      "metadata": {
        "colab": {
          "base_uri": "https://localhost:8080/"
        },
        "id": "gqsleeKvo2c-",
        "outputId": "52cb398b-41b1-4470-b7c9-18ed2c627807"
      },
      "execution_count": 66,
      "outputs": [
        {
          "output_type": "stream",
          "name": "stdout",
          "text": [
            "\\\n"
          ]
        }
      ]
    },
    {
      "cell_type": "markdown",
      "source": [
        "Listed some of the escape sequence.\n",
        "\n",
        "![Screenshot 2022-08-10 at 12.55.30 PM.png](data:image/png;base64,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)"
      ],
      "metadata": {
        "id": "ndRZEVzqpQqv"
      }
    },
    {
      "cell_type": "markdown",
      "source": [
        "### **String Methods**"
      ],
      "metadata": {
        "id": "AnDHQzomI95Q"
      }
    },
    {
      "cell_type": "markdown",
      "source": [
        "There are numerous number of methods available for string manipulation in python. This can be seen [here](https://docs.python.org/3/library/stdtypes.html#string-methods).\n",
        "\n",
        "Few examples are listed."
      ],
      "metadata": {
        "id": "WvO3upMNpsmT"
      }
    },
    {
      "cell_type": "code",
      "source": [
        "country = 'india'\n",
        "\n",
        "print(country.capitalize()) #Capitalize the first letter in the word"
      ],
      "metadata": {
        "id": "efiappAqI8sg",
        "colab": {
          "base_uri": "https://localhost:8080/"
        },
        "outputId": "544412fd-9181-4d89-f829-fea4d3b9ada1"
      },
      "execution_count": 68,
      "outputs": [
        {
          "output_type": "stream",
          "name": "stdout",
          "text": [
            "India\n"
          ]
        }
      ]
    },
    {
      "cell_type": "code",
      "source": [
        "print(country.upper()) #converts uppercase"
      ],
      "metadata": {
        "colab": {
          "base_uri": "https://localhost:8080/"
        },
        "id": "oi64N_c2qtoe",
        "outputId": "7a0f28f3-cbf2-40c6-a169-42e87d95a95d"
      },
      "execution_count": 69,
      "outputs": [
        {
          "output_type": "stream",
          "name": "stdout",
          "text": [
            "INDIA\n"
          ]
        }
      ]
    },
    {
      "cell_type": "code",
      "source": [
        "print(country.lower()) #converts lowercase"
      ],
      "metadata": {
        "colab": {
          "base_uri": "https://localhost:8080/"
        },
        "id": "oZK-SkAWq8Y5",
        "outputId": "9d87c237-2ecd-4f86-d5d3-a2976ee642d4"
      },
      "execution_count": 70,
      "outputs": [
        {
          "output_type": "stream",
          "name": "stdout",
          "text": [
            "india\n"
          ]
        }
      ]
    },
    {
      "cell_type": "code",
      "source": [
        "print(country.islower()) #checks whether string is in lower case or not"
      ],
      "metadata": {
        "colab": {
          "base_uri": "https://localhost:8080/"
        },
        "id": "XyxiEMtYrDMg",
        "outputId": "6f085809-70b6-496f-f05a-a26501c718cc"
      },
      "execution_count": 71,
      "outputs": [
        {
          "output_type": "stream",
          "name": "stdout",
          "text": [
            "True\n"
          ]
        }
      ]
    },
    {
      "cell_type": "code",
      "source": [
        "print(country.isupper()) #checks whether string is in upper case or not"
      ],
      "metadata": {
        "colab": {
          "base_uri": "https://localhost:8080/"
        },
        "id": "bMbw6jEhrDJq",
        "outputId": "6a93d050-8027-479d-e79e-8bb254f7a446"
      },
      "execution_count": 72,
      "outputs": [
        {
          "output_type": "stream",
          "name": "stdout",
          "text": [
            "False\n"
          ]
        }
      ]
    },
    {
      "cell_type": "code",
      "source": [
        "print(country.split()) #splits the string as specified and returns a list"
      ],
      "metadata": {
        "colab": {
          "base_uri": "https://localhost:8080/"
        },
        "id": "Ckp9lauorCE4",
        "outputId": "5607076b-68be-41db-eb22-77e99a75636e"
      },
      "execution_count": 73,
      "outputs": [
        {
          "output_type": "stream",
          "name": "stdout",
          "text": [
            "['india']\n"
          ]
        }
      ]
    },
    {
      "cell_type": "code",
      "source": [
        "print(sentence.split(' ')) #splits the string as specified and returns a list"
      ],
      "metadata": {
        "colab": {
          "base_uri": "https://localhost:8080/"
        },
        "id": "ye0nQbXdrWlX",
        "outputId": "d05308bc-0f72-434c-f552-98857b12624b"
      },
      "execution_count": 76,
      "outputs": [
        {
          "output_type": "stream",
          "name": "stdout",
          "text": [
            "['Not', 'everything', 'that', 'counts', 'can', 'be', 'counted,', 'and', 'not', 'everything', 'that', 'counted', 'truly', 'counts']\n"
          ]
        }
      ]
    },
    {
      "cell_type": "code",
      "source": [
        "print(sentence.split(',')) #splits the string as specified and returns a list"
      ],
      "metadata": {
        "colab": {
          "base_uri": "https://localhost:8080/"
        },
        "id": "5UI6A_Y2re68",
        "outputId": "85f6a5b0-34ab-46f1-d808-fc637f645b72"
      },
      "execution_count": 78,
      "outputs": [
        {
          "output_type": "stream",
          "name": "stdout",
          "text": [
            "['Not everything that counts can be counted', ' and not everything that counted truly counts']\n"
          ]
        }
      ]
    },
    {
      "cell_type": "code",
      "source": [
        "camelcase = 'IoT'\n",
        "\n",
        "print(camelcase.swapcase()) #swaps cases"
      ],
      "metadata": {
        "colab": {
          "base_uri": "https://localhost:8080/"
        },
        "id": "U1C8GL0jru5y",
        "outputId": "26b3a566-72e7-4125-bc2d-6963a12e564f"
      },
      "execution_count": 80,
      "outputs": [
        {
          "output_type": "stream",
          "name": "stdout",
          "text": [
            "iOt\n"
          ]
        }
      ]
    }
  ]
}